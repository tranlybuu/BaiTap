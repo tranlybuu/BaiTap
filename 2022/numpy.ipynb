{
 "cells": [
  {
   "cell_type": "markdown",
   "metadata": {},
   "source": [
    "# Numpy"
   ]
  },
  {
   "cell_type": "markdown",
   "metadata": {},
   "source": [
    "### Thêm thư viện"
   ]
  },
  {
   "cell_type": "markdown",
   "metadata": {},
   "source": [
    "Cài đặt thư viện\n",
    "\n",
    "*pip install numpy*"
   ]
  },
  {
   "cell_type": "code",
   "execution_count": 57,
   "metadata": {},
   "outputs": [],
   "source": [
    "import numpy as np"
   ]
  },
  {
   "cell_type": "markdown",
   "metadata": {},
   "source": [
    "### Khởi tạo mảng"
   ]
  },
  {
   "cell_type": "code",
   "execution_count": 58,
   "metadata": {},
   "outputs": [
    {
     "data": {
      "text/plain": [
       "array([1, 3, 4, 5, 6])"
      ]
     },
     "execution_count": 58,
     "metadata": {},
     "output_type": "execute_result"
    }
   ],
   "source": [
    "\"\"\" Mảng 1 chiều \"\"\"\n",
    "arr1 = np.array([1,3,4,5,6])\n",
    "arr1"
   ]
  },
  {
   "cell_type": "code",
   "execution_count": 59,
   "metadata": {},
   "outputs": [
    {
     "data": {
      "text/plain": [
       "array([[2, 4, 0, 6],\n",
       "       [4, 7, 5, 6],\n",
       "       [0, 3, 2, 1],\n",
       "       [9, 4, 5, 6]])"
      ]
     },
     "execution_count": 59,
     "metadata": {},
     "output_type": "execute_result"
    }
   ],
   "source": [
    "\"\"\" Mảng 2 chiều \"\"\"\n",
    "arr2 = np.array(((2,4,0,6), (4,7,5,6),\n",
    "                 (0,3,2,1), (9,4,5,6)))\n",
    "arr2"
   ]
  },
  {
   "cell_type": "markdown",
   "metadata": {},
   "source": [
    "dtype: Kiểu dữ liệu của phần tử trong mảng\n",
    "\n",
    "shape: Kích thước của mảng\n",
    "\n",
    "size: Số phần tử trong mảng\n",
    "\n",
    "ndim: Số chiều của mảng"
   ]
  },
  {
   "cell_type": "code",
   "execution_count": 67,
   "metadata": {},
   "outputs": [
    {
     "name": "stdout",
     "output_type": "stream",
     "text": [
      "Kiểu dữ liệu của phần tử trong mảng: int32\n",
      "Kích thước của mảng: (4, 4)\n",
      "Số phần tử trong mảng: 16\n",
      "Số chiều của mảng: 2\n"
     ]
    }
   ],
   "source": [
    "print(\"Kiểu dữ liệu của phần tử trong mảng:\", arr2.dtype)\n",
    "print(\"Kích thước của mảng:\", arr2.shape)\n",
    "print(\"Số phần tử trong mảng:\", arr2.size)\n",
    "print(\"Số chiều của mảng:\", arr2.ndim)"
   ]
  },
  {
   "cell_type": "code",
   "execution_count": 60,
   "metadata": {},
   "outputs": [
    {
     "data": {
      "text/plain": [
       "array([[0, 0, 0, 0],\n",
       "       [0, 0, 0, 0],\n",
       "       [0, 0, 0, 0]])"
      ]
     },
     "execution_count": 60,
     "metadata": {},
     "output_type": "execute_result"
    }
   ],
   "source": [
    "\"\"\" Tạo mảng hai chiều các phần tử 0 với kích thước 3×4 \"\"\"\n",
    "np.zeros((3,4), dtype = int)"
   ]
  },
  {
   "cell_type": "code",
   "execution_count": 61,
   "metadata": {},
   "outputs": [
    {
     "data": {
      "text/plain": [
       "array([[[1, 1, 1, 1],\n",
       "        [1, 1, 1, 1],\n",
       "        [1, 1, 1, 1]],\n",
       "\n",
       "       [[1, 1, 1, 1],\n",
       "        [1, 1, 1, 1],\n",
       "        [1, 1, 1, 1]]])"
      ]
     },
     "execution_count": 61,
     "metadata": {},
     "output_type": "execute_result"
    }
   ],
   "source": [
    "\"\"\" Tạo mảng 3 chiều các phần tử 1 với kích thước 2x3x4 \"\"\"\n",
    "np.ones((2,3,4), dtype = int)"
   ]
  },
  {
   "cell_type": "code",
   "execution_count": 62,
   "metadata": {},
   "outputs": [
    {
     "data": {
      "text/plain": [
       "array([ 1,  3,  5,  7,  9, 11, 13, 15, 17, 19, 21, 23, 25])"
      ]
     },
     "execution_count": 62,
     "metadata": {},
     "output_type": "execute_result"
    }
   ],
   "source": [
    "\"\"\" Tạo mảng với các phần tử từ 1 đến 25 với bước nhảy là 2 \"\"\"\n",
    "np.arange(1,26,2)"
   ]
  },
  {
   "cell_type": "code",
   "execution_count": 63,
   "metadata": {},
   "outputs": [
    {
     "data": {
      "text/plain": [
       "array([[5, 5, 5],\n",
       "       [5, 5, 5]])"
      ]
     },
     "execution_count": 63,
     "metadata": {},
     "output_type": "execute_result"
    }
   ],
   "source": [
    "\"\"\" Tạo mảng 2 chiều các phần tử 5 với kích thước 2×3 \"\"\"\n",
    "np.full((2,3),5)"
   ]
  },
  {
   "cell_type": "code",
   "execution_count": 64,
   "metadata": {},
   "outputs": [
    {
     "data": {
      "text/plain": [
       "array([[1., 0., 0., 0.],\n",
       "       [0., 1., 0., 0.],\n",
       "       [0., 0., 1., 0.],\n",
       "       [0., 0., 0., 1.]])"
      ]
     },
     "execution_count": 64,
     "metadata": {},
     "output_type": "execute_result"
    }
   ],
   "source": [
    "\"\"\" Tạo ma trận đơn vị với kích thước là 4×4 \"\"\"\n",
    "np.eye(4)"
   ]
  },
  {
   "cell_type": "code",
   "execution_count": 65,
   "metadata": {},
   "outputs": [
    {
     "data": {
      "text/plain": [
       "array([[0.06006147, 0.89514907, 0.44569397],\n",
       "       [0.33398261, 0.0271108 , 0.77892902]])"
      ]
     },
     "execution_count": 65,
     "metadata": {},
     "output_type": "execute_result"
    }
   ],
   "source": [
    "\"\"\" Tạo ma trận các phần tử ngẫu nhiên với kích thước 2×3 \"\"\"\n",
    "np.random.random((2,3))"
   ]
  },
  {
   "cell_type": "code",
   "execution_count": 66,
   "metadata": {},
   "outputs": [
    {
     "data": {
      "text/plain": [
       "array([[76, 96, 65],\n",
       "       [50, 51,  7],\n",
       "       [78, 58, 81]])"
      ]
     },
     "execution_count": 66,
     "metadata": {},
     "output_type": "execute_result"
    }
   ],
   "source": [
    "\"\"\" Tạo ma trận các phần tử ngẫu nhiên từ 1 đến 99 với kích thước 3x3 \"\"\"\n",
    "np.random.randint(1,100,(3,3))"
   ]
  },
  {
   "cell_type": "markdown",
   "metadata": {},
   "source": [
    "### Các hàm thống kê\n",
    "\n"
   ]
  },
  {
   "cell_type": "markdown",
   "metadata": {},
   "source": [
    "arr.max() hoặc np.max(arr): Lấy giá trị lớn nhất của mảng arr\n",
    "\n",
    "arr.min() hoặc np.min(arr): Lấy giá trị nhỏ nhất của mảng arr\n",
    "\n",
    "arr.sum() hoặc np.sum(arr): Tổng tất cả các phần tử trong mảng arr\n",
    "\n",
    "arr.mean() hoặc np.mean(arr): Trung bình cộng của tất cả các phần tử trong mảng arr\n",
    "\n",
    "np.median(arr): Trả về giá trị trung vị của mảng arr"
   ]
  },
  {
   "cell_type": "code",
   "execution_count": 68,
   "metadata": {},
   "outputs": [
    {
     "name": "stdout",
     "output_type": "stream",
     "text": [
      "[1 3 4 5 6]\n",
      "Giá trị lớn nhất của mảng arr là: 6\n",
      "Giá trị nhỏ nhất của mảng arr là: 1\n",
      "Tổng tất cả các phần tử của mảng arr là: 19\n",
      "Trung bình cộng tất cả các phần tử của mảng arr là: 3.8\n",
      "Giá trị trung vị của mảng arr là: 4.0\n"
     ]
    }
   ],
   "source": [
    "print(arr)\n",
    "print(\"Giá trị lớn nhất của mảng arr là:\", np.max(arr))\n",
    "print(\"Giá trị nhỏ nhất của mảng arr là:\", np.min(arr))\n",
    "print(\"Tổng tất cả các phần tử của mảng arr là:\", np.sum(arr))\n",
    "print(\"Trung bình cộng tất cả các phần tử của mảng arr là:\", np.mean(arr))\n",
    "print(\"Giá trị trung vị của mảng arr là:\", np.median(arr))"
   ]
  },
  {
   "cell_type": "markdown",
   "metadata": {},
   "source": [
    "### Toán tử"
   ]
  },
  {
   "cell_type": "code",
   "execution_count": 69,
   "metadata": {},
   "outputs": [],
   "source": [
    "a = np.array(([2,1],[9,5]))\n",
    "b = np.array(([11,42],[75,36]))"
   ]
  },
  {
   "cell_type": "code",
   "execution_count": 70,
   "metadata": {},
   "outputs": [
    {
     "data": {
      "text/plain": [
       "array([[ 5,  4],\n",
       "       [12,  8]])"
      ]
     },
     "execution_count": 70,
     "metadata": {},
     "output_type": "execute_result"
    }
   ],
   "source": [
    "\"\"\" Cộng/trừ 1 số với ma trận \"\"\"\n",
    "a + 3"
   ]
  },
  {
   "cell_type": "code",
   "execution_count": 71,
   "metadata": {},
   "outputs": [
    {
     "data": {
      "text/plain": [
       "array([[13, 43],\n",
       "       [84, 41]])"
      ]
     },
     "execution_count": 71,
     "metadata": {},
     "output_type": "execute_result"
    }
   ],
   "source": [
    "\"\"\" Ma trận cộng/trừ ma trận \"\"\"\n",
    "a + b"
   ]
  },
  {
   "cell_type": "code",
   "execution_count": 72,
   "metadata": {},
   "outputs": [
    {
     "data": {
      "text/plain": [
       "array([[10,  5],\n",
       "       [45, 25]])"
      ]
     },
     "execution_count": 72,
     "metadata": {},
     "output_type": "execute_result"
    }
   ],
   "source": [
    "\"\"\" Nhân/chia 1 số với mảng \"\"\"\n",
    "a * 5"
   ]
  },
  {
   "cell_type": "code",
   "execution_count": 73,
   "metadata": {},
   "outputs": [
    {
     "data": {
      "text/plain": [
       "array([[ 97, 120],\n",
       "       [474, 558]])"
      ]
     },
     "execution_count": 73,
     "metadata": {},
     "output_type": "execute_result"
    }
   ],
   "source": [
    "\"\"\" Ma trận nhân ma trận \"\"\"\n",
    "np.dot(a,b)"
   ]
  },
  {
   "cell_type": "markdown",
   "metadata": {},
   "source": [
    "### Identify matrix và Transpose matrix"
   ]
  },
  {
   "cell_type": "code",
   "execution_count": 79,
   "metadata": {},
   "outputs": [
    {
     "data": {
      "text/plain": [
       "array([[2, 1],\n",
       "       [9, 5]])"
      ]
     },
     "execution_count": 79,
     "metadata": {},
     "output_type": "execute_result"
    }
   ],
   "source": [
    "a"
   ]
  },
  {
   "cell_type": "code",
   "execution_count": 74,
   "metadata": {},
   "outputs": [
    {
     "data": {
      "text/plain": [
       "array([[ 5., -1.],\n",
       "       [-9.,  2.]])"
      ]
     },
     "execution_count": 74,
     "metadata": {},
     "output_type": "execute_result"
    }
   ],
   "source": [
    "\"\"\" Identify matrix - Ma trận khả nghịch (arr^-1) \"\"\"\n",
    "np.linalg.pinv(a)"
   ]
  },
  {
   "cell_type": "code",
   "execution_count": 75,
   "metadata": {},
   "outputs": [
    {
     "data": {
      "text/plain": [
       "array([[2, 9],\n",
       "       [1, 5]])"
      ]
     },
     "execution_count": 75,
     "metadata": {},
     "output_type": "execute_result"
    }
   ],
   "source": [
    "\"\"\" Transpose matrix - Ma trận chuyển vị (arrT) \"\"\"\n",
    "np.transpose(a)"
   ]
  }
 ],
 "metadata": {
  "interpreter": {
   "hash": "87366b9f6695bdf9b3ccfb697d6ad3023352c9e7e968561a7bf647e5e4f6d499"
  },
  "kernelspec": {
   "display_name": "Python 3.9.9 64-bit",
   "language": "python",
   "name": "python3"
  },
  "language_info": {
   "codemirror_mode": {
    "name": "ipython",
    "version": 3
   },
   "file_extension": ".py",
   "mimetype": "text/x-python",
   "name": "python",
   "nbconvert_exporter": "python",
   "pygments_lexer": "ipython3",
   "version": "3.9.9"
  },
  "orig_nbformat": 4
 },
 "nbformat": 4,
 "nbformat_minor": 2
}
