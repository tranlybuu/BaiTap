{
 "cells": [
  {
   "cell_type": "markdown",
   "metadata": {},
   "source": [
    "Đề: https://drive.google.com/file/d/1H59t1UIuNTS70JtuT7H8dyDdN_Ro9MC-/view?usp=sharing"
   ]
  },
  {
   "cell_type": "code",
   "execution_count": 1,
   "metadata": {},
   "outputs": [],
   "source": [
    "import numpy as np"
   ]
  },
  {
   "cell_type": "markdown",
   "metadata": {},
   "source": [
    "**Syntax:**\n",
    "\n",
    "![image](https://user-images.githubusercontent.com/70121634/157898649-3d6676e0-ae7c-490f-95e6-cfe1f037cb2c.png)\n",
    "\n",
    "*1d_func* -- Nhập hàm muốn thực hiện trên các mảng 1D được trích xuất từ mảng ban đầu\n",
    "\n",
    "*axis* -- 0 nếu muốn cắt mảng ban đầu theo cột / 1 nếu muốn cắt mảng ban đầu theo hàng\n",
    "\n",
    "*array* -- Nhập mảng muốn thực hiện"
   ]
  },
  {
   "cell_type": "markdown",
   "metadata": {},
   "source": [
    "Bài 2: Tạo một ma trận A15x17 có giá trị ngẫu nhiên"
   ]
  },
  {
   "cell_type": "code",
   "execution_count": 2,
   "metadata": {},
   "outputs": [
    {
     "name": "stdout",
     "output_type": "stream",
     "text": [
      "[[38 32 67 58 31 29 41 44 72 79 63 68 80 51 70 96 48]\n",
      " [38 82 88 17 10 84 84 48 89 30 76 53 36 47 71 29 63]\n",
      " [11 21 68 99 62 49 53 76 40 57 28 44 26 99 31 65 65]\n",
      " [32 70 86 67 61 88 53 64 28 66 57 44 12 82 44 83 43]\n",
      " [96 41 75 13 43 73 86 91 77 66 26 61 67 55 86 43 33]\n",
      " [24 35 79 81 42 98 66 93 92 87 27 24 12 49 88 31 90]\n",
      " [22 67 55 60 32 83 53 97 81 64 48 97 27 47 89 16 66]\n",
      " [70 22 19 57 39 62 89 58 95 34 98 70 58 61 87 64 44]\n",
      " [94 13 66 75 81 81 86 56 19 27 34 94 69 69 55 72 91]\n",
      " [37 26 78 96 78 66 46 60 49 91 57 10 33 40 97 80 90]\n",
      " [97 91 28 92 32 68 94 76 30 66 16 22 69 73 22 94 88]\n",
      " [78 98 78 15 38 91 99 91 85 27 91 42 24 89 24 81 27]\n",
      " [94 14 72 34 94 54 54 66 23 37 75 64 91 95 93 89 69]\n",
      " [18 98 82 89 81 33 48 19 88 53 37 59 67 72 91 69 58]\n",
      " [73 50 70 80 95 92 22 23 57 67 17 57 17 24 14 26 22]]\n"
     ]
    }
   ],
   "source": [
    "a = np.random.randint(10,100,(15,17))\n",
    "print(a)"
   ]
  },
  {
   "cell_type": "markdown",
   "metadata": {},
   "source": [
    "Bài 3: Xây dựng hàm tìm giá trị lớn nhất có tên là tim_gia_tri_lon_nhat(vector_a) có tham số\n",
    "đầu vào là 1 vector a và giá trị trả về là giá trị phần tử lớn nhất của vector này. Áp dụng hàm này\n",
    "theo từng hàng của ma trận A ở Câu 1 và xuất kết quả ra màn hình."
   ]
  },
  {
   "cell_type": "code",
   "execution_count": 3,
   "metadata": {},
   "outputs": [
    {
     "name": "stdout",
     "output_type": "stream",
     "text": [
      "[96 89 99 88 96 98 97 98 94 97 97 99 95 98 95]\n"
     ]
    }
   ],
   "source": [
    "def tim_gia_tri_lon_nhat(vector):\n",
    "    return np.apply_along_axis(np.max, 1, vector)\n",
    "print(tim_gia_tri_lon_nhat(a))"
   ]
  },
  {
   "cell_type": "markdown",
   "metadata": {},
   "source": [
    "Bài 4: Xây dựng hàm tìm giá trị nhỏ nhất có tên là tim_gia_tri_nho_nhat(vector_a) có tham số\n",
    "đầu vào là 1 vector a và giá trị trả về là giá trị phần tử nhỏ nhất của vector này. Áp dụng hàm này\n",
    "theo từng cột của ma trận A ở Câu 1 và xuất kết quả ra màn hình."
   ]
  },
  {
   "cell_type": "code",
   "execution_count": 4,
   "metadata": {},
   "outputs": [
    {
     "name": "stdout",
     "output_type": "stream",
     "text": [
      "[11 13 19 13 10 29 22 19 19 27 16 10 12 24 14 16 22]\n"
     ]
    }
   ],
   "source": [
    "def tim_gia_tri_nho_nhat(vector):\n",
    "    return np.apply_along_axis(np.min, 0, vector)\n",
    "print(tim_gia_tri_nho_nhat(a))"
   ]
  },
  {
   "cell_type": "markdown",
   "metadata": {},
   "source": [
    "Bài 5: Xây dựng hàm tìm giá trị lớn nhất có tên là tinh_tong(vector_a) có tham số đầu vào là 1\n",
    "vector a và giá trị trả về là tổng các phần tử của vector này. Áp dụng hàm này theo từng hàng của\n",
    "ma trận A ở Câu 1 và xuất kết quả ra màn hình."
   ]
  },
  {
   "cell_type": "code",
   "execution_count": 5,
   "metadata": {},
   "outputs": [
    {
     "name": "stdout",
     "output_type": "stream",
     "text": [
      "[ 822  760 1011  933  819 1051  974  962  925  851  750  809  688  953\n",
      "  962  938  897]\n"
     ]
    }
   ],
   "source": [
    "def tinh_tong(vector):\n",
    "    return np.apply_along_axis(np.sum, 0, vector)\n",
    "print(tinh_tong(a))"
   ]
  },
  {
   "cell_type": "markdown",
   "metadata": {},
   "source": [
    "Bài 6: Xây dựng hàm tìm giá trị lớn nhất có tên là tinh_tong_2(vector_a) có tham số đầu vào là\n",
    "1 vector a và giá trị trả về là tổng các phần tử có chỉ số lẻ (1 – 3 – 5 , .v.v.) của vector này. Áp\n",
    "dụng hàm này theo từng cột của ma trận A ở Câu 1 và xuất kết quả ra màn hình. Tiếp tục áp dụng\n",
    "hàm này theo từng hàng của ma trận A kể trên và xuất kết quả ra màn hình."
   ]
  },
  {
   "cell_type": "code",
   "execution_count": 6,
   "metadata": {},
   "outputs": [
    {
     "name": "stdout",
     "output_type": "stream",
     "text": [
      "[[2 7 5 7]\n",
      " [9 8 1 3]]\n"
     ]
    }
   ],
   "source": [
    "b = np.random.randint(1,10,(2,4))\n",
    "print(b)"
   ]
  },
  {
   "cell_type": "code",
   "execution_count": 11,
   "metadata": {},
   "outputs": [],
   "source": [
    "def tinh_tong1(vector):\n",
    "  return sum(n for n in vector if n % 2 != 0)"
   ]
  },
  {
   "cell_type": "code",
   "execution_count": 13,
   "metadata": {},
   "outputs": [
    {
     "name": "stdout",
     "output_type": "stream",
     "text": [
      "[218 268 295 513 431 439 388 414 575 525 424 327 440 735 614 490 391]\n",
      "[361 369 550 364 672 482 696 447 580 364 330 696 572 598 406]\n"
     ]
    }
   ],
   "source": [
    "def tinh_tong_2(vector,axis):\n",
    "    return np.apply_along_axis(tinh_tong1, axis, vector)\n",
    "print(tinh_tong_2(a,0))\n",
    "print(tinh_tong_2(a,1))"
   ]
  }
 ],
 "metadata": {
  "interpreter": {
   "hash": "ac550e0b864cfc34d7417f026bcfccdbbd634fd35df20ed814519ede7c4b8130"
  },
  "kernelspec": {
   "display_name": "Python 3.8.10 64-bit",
   "language": "python",
   "name": "python3"
  },
  "language_info": {
   "codemirror_mode": {
    "name": "ipython",
    "version": 3
   },
   "file_extension": ".py",
   "mimetype": "text/x-python",
   "name": "python",
   "nbconvert_exporter": "python",
   "pygments_lexer": "ipython3",
   "version": "3.8.10"
  },
  "orig_nbformat": 4
 },
 "nbformat": 4,
 "nbformat_minor": 2
}
