{
 "cells": [
  {
   "cell_type": "markdown",
   "metadata": {},
   "source": [
    "Đề: https://drive.google.com/file/d/1H59t1UIuNTS70JtuT7H8dyDdN_Ro9MC-/view?usp=sharing"
   ]
  },
  {
   "cell_type": "code",
   "execution_count": 25,
   "metadata": {},
   "outputs": [],
   "source": [
    "import numpy as np"
   ]
  },
  {
   "cell_type": "markdown",
   "metadata": {},
   "source": [
    "**Syntax:**\n",
    "\n",
    "![image](https://user-images.githubusercontent.com/70121634/157898649-3d6676e0-ae7c-490f-95e6-cfe1f037cb2c.png)\n",
    "\n",
    "*1d_func* -- Nhập hàm muốn thực hiện trên các mảng 1D được trích xuất từ mảng ban đầu\n",
    "\n",
    "*axis* -- 0 nếu muốn cắt mảng ban đầu theo cột / 1 nếu muốn cắt mảng ban đầu theo hàng\n",
    "\n",
    "*array* -- Nhập mảng muốn thực hiện"
   ]
  },
  {
   "cell_type": "markdown",
   "metadata": {},
   "source": [
    "Bài 2: Tạo một ma trận A15x17 có giá trị ngẫu nhiên"
   ]
  },
  {
   "cell_type": "code",
   "execution_count": 26,
   "metadata": {},
   "outputs": [
    {
     "name": "stdout",
     "output_type": "stream",
     "text": [
      "[[15 21 16 61 48 75 23 29 47 17 79 90 91 30 44 17 81]\n",
      " [32 42 43 44 79 12 26 43 46 77 58 86 83 16 49 33 28]\n",
      " [86 48 63 56 27 67 73 14 68 91 41 96 28 40 10 26 89]\n",
      " [39 69 34 83 90 33 39 11 59 11 54 20 52 26 17 80 73]\n",
      " [49 67 24 21 48 48 49 81 72 13 46 17 27 30 38 50 29]\n",
      " [73 56 22 72 89 23 34 85 68 23 62 92 86 22 72 88 98]\n",
      " [87 70 96 46 13 97 72 41 81 12 25 47 18 92 31 83 83]\n",
      " [48 22 32 13 24 19 24 80 72 79 13 32 30 75 62 10 53]\n",
      " [50 10 38 59 47 69 51 39 76 31 47 87 99 38 17 83 75]\n",
      " [70 29 72 22 45 91 44 32 49 32 17 69 20 29 84 20 72]\n",
      " [48 82 93 98 38 40 19 81 50 34 47 52 43 87 94 38 86]\n",
      " [11 18 44 20 41 76 56 33 90 67 78 75 39 28 70 30 42]\n",
      " [94 38 45 19 87 63 17 43 80 94 16 10 35 88 96 76 93]\n",
      " [46 46 97 97 31 89 23 20 76 73 71 52 11 73 76 34 81]\n",
      " [54 43 36 54 90 16 12 77 81 85 55 16 60 45 78 61 76]]\n"
     ]
    }
   ],
   "source": [
    "a = np.random.randint(10,100,(15,17))\n",
    "print(a)"
   ]
  },
  {
   "cell_type": "markdown",
   "metadata": {},
   "source": [
    "Bài 3"
   ]
  },
  {
   "cell_type": "code",
   "execution_count": 27,
   "metadata": {},
   "outputs": [
    {
     "name": "stdout",
     "output_type": "stream",
     "text": [
      "[91 86 96 90 81 98 97 80 99 91 98 90 96 97 90]\n"
     ]
    }
   ],
   "source": [
    "def tim_gia_tri_lon_nhat(vector):\n",
    "    return np.apply_along_axis(np.max, 1, vector)\n",
    "print(tim_gia_tri_lon_nhat(a))"
   ]
  },
  {
   "cell_type": "markdown",
   "metadata": {},
   "source": [
    "Bài 4"
   ]
  },
  {
   "cell_type": "code",
   "execution_count": 28,
   "metadata": {},
   "outputs": [
    {
     "name": "stdout",
     "output_type": "stream",
     "text": [
      "[11 10 16 13 13 12 12 11 46 11 13 10 11 16 10 10 28]\n"
     ]
    }
   ],
   "source": [
    "def tim_gia_tri_nho_nhat(vector):\n",
    "    return np.apply_along_axis(np.min, 0, vector)\n",
    "print(tim_gia_tri_nho_nhat(a))"
   ]
  },
  {
   "cell_type": "markdown",
   "metadata": {},
   "source": [
    "Bài 5"
   ]
  },
  {
   "cell_type": "code",
   "execution_count": 29,
   "metadata": {},
   "outputs": [
    {
     "name": "stdout",
     "output_type": "stream",
     "text": [
      "[ 802  661  755  765  797  818  562  709 1015  739  709  841  722  719\n",
      "  838  729 1059]\n"
     ]
    }
   ],
   "source": [
    "def tinh_tong(vector):\n",
    "    return np.apply_along_axis(np.sum, 0, vector)\n",
    "print(tinh_tong(a))"
   ]
  },
  {
   "cell_type": "markdown",
   "metadata": {},
   "source": [
    "Bài 6"
   ]
  },
  {
   "cell_type": "code",
   "execution_count": 30,
   "metadata": {},
   "outputs": [
    {
     "name": "stdout",
     "output_type": "stream",
     "text": [
      "[[6 9 8 8]\n",
      " [6 1 2 2]]\n"
     ]
    }
   ],
   "source": [
    "b = np.random.randint(1,10,(2,4))\n",
    "print(b)"
   ]
  },
  {
   "cell_type": "code",
   "execution_count": 31,
   "metadata": {},
   "outputs": [
    {
     "ename": "TypeError",
     "evalue": "only integer scalar arrays can be converted to a scalar index",
     "output_type": "error",
     "traceback": [
      "\u001b[1;31m---------------------------------------------------------------------------\u001b[0m",
      "\u001b[1;31mTypeError\u001b[0m                                 Traceback (most recent call last)",
      "\u001b[1;32mf:\\BaiTap\\2022\\ex_np3.ipynb Cell 13'\u001b[0m in \u001b[0;36m<cell line: 3>\u001b[1;34m()\u001b[0m\n\u001b[0;32m      <a href='vscode-notebook-cell:/f%3A/BaiTap/2022/ex_np3.ipynb#ch0000019?line=0'>1</a>\u001b[0m \u001b[39mdef\u001b[39;00m \u001b[39mtinh_tong_2\u001b[39m(vector,axis):\n\u001b[0;32m      <a href='vscode-notebook-cell:/f%3A/BaiTap/2022/ex_np3.ipynb#ch0000019?line=1'>2</a>\u001b[0m     \u001b[39mreturn\u001b[39;00m np\u001b[39m.\u001b[39mapply_along_axis(np\u001b[39m.\u001b[39msum, axis, vector, vector\u001b[39m/\u001b[39m\u001b[39m2\u001b[39m\u001b[39m!=\u001b[39m\u001b[39m0\u001b[39m)\n\u001b[1;32m----> <a href='vscode-notebook-cell:/f%3A/BaiTap/2022/ex_np3.ipynb#ch0000019?line=2'>3</a>\u001b[0m \u001b[39mprint\u001b[39m(tinh_tong_2(a,\u001b[39m0\u001b[39;49m))\n",
      "\u001b[1;32mf:\\BaiTap\\2022\\ex_np3.ipynb Cell 13'\u001b[0m in \u001b[0;36mtinh_tong_2\u001b[1;34m(vector, axis)\u001b[0m\n\u001b[0;32m      <a href='vscode-notebook-cell:/f%3A/BaiTap/2022/ex_np3.ipynb#ch0000019?line=0'>1</a>\u001b[0m \u001b[39mdef\u001b[39;00m \u001b[39mtinh_tong_2\u001b[39m(vector,axis):\n\u001b[1;32m----> <a href='vscode-notebook-cell:/f%3A/BaiTap/2022/ex_np3.ipynb#ch0000019?line=1'>2</a>\u001b[0m     \u001b[39mreturn\u001b[39;00m np\u001b[39m.\u001b[39;49mapply_along_axis(np\u001b[39m.\u001b[39;49msum, axis, vector, vector\u001b[39m/\u001b[39;49m\u001b[39m2\u001b[39;49m\u001b[39m!=\u001b[39;49m\u001b[39m0\u001b[39;49m)\n",
      "File \u001b[1;32m<__array_function__ internals>:180\u001b[0m, in \u001b[0;36mapply_along_axis\u001b[1;34m(*args, **kwargs)\u001b[0m\n",
      "File \u001b[1;32m~\\AppData\\Local\\Programs\\Python\\Python38\\lib\\site-packages\\numpy\\lib\\shape_base.py:379\u001b[0m, in \u001b[0;36mapply_along_axis\u001b[1;34m(func1d, axis, arr, *args, **kwargs)\u001b[0m\n\u001b[0;32m    <a href='file:///c%3A/Users/b00/AppData/Local/Programs/Python/Python38/lib/site-packages/numpy/lib/shape_base.py?line=374'>375</a>\u001b[0m \u001b[39mexcept\u001b[39;00m \u001b[39mStopIteration\u001b[39;00m \u001b[39mas\u001b[39;00m e:\n\u001b[0;32m    <a href='file:///c%3A/Users/b00/AppData/Local/Programs/Python/Python38/lib/site-packages/numpy/lib/shape_base.py?line=375'>376</a>\u001b[0m     \u001b[39mraise\u001b[39;00m \u001b[39mValueError\u001b[39;00m(\n\u001b[0;32m    <a href='file:///c%3A/Users/b00/AppData/Local/Programs/Python/Python38/lib/site-packages/numpy/lib/shape_base.py?line=376'>377</a>\u001b[0m         \u001b[39m'\u001b[39m\u001b[39mCannot apply_along_axis when any iteration dimensions are 0\u001b[39m\u001b[39m'\u001b[39m\n\u001b[0;32m    <a href='file:///c%3A/Users/b00/AppData/Local/Programs/Python/Python38/lib/site-packages/numpy/lib/shape_base.py?line=377'>378</a>\u001b[0m     ) \u001b[39mfrom\u001b[39;00m \u001b[39mNone\u001b[39m\n\u001b[1;32m--> <a href='file:///c%3A/Users/b00/AppData/Local/Programs/Python/Python38/lib/site-packages/numpy/lib/shape_base.py?line=378'>379</a>\u001b[0m res \u001b[39m=\u001b[39m asanyarray(func1d(inarr_view[ind0], \u001b[39m*\u001b[39;49margs, \u001b[39m*\u001b[39;49m\u001b[39m*\u001b[39;49mkwargs))\n\u001b[0;32m    <a href='file:///c%3A/Users/b00/AppData/Local/Programs/Python/Python38/lib/site-packages/numpy/lib/shape_base.py?line=380'>381</a>\u001b[0m \u001b[39m# build a buffer for storing evaluations of func1d.\u001b[39;00m\n\u001b[0;32m    <a href='file:///c%3A/Users/b00/AppData/Local/Programs/Python/Python38/lib/site-packages/numpy/lib/shape_base.py?line=381'>382</a>\u001b[0m \u001b[39m# remove the requested axis, and add the new ones on the end.\u001b[39;00m\n\u001b[0;32m    <a href='file:///c%3A/Users/b00/AppData/Local/Programs/Python/Python38/lib/site-packages/numpy/lib/shape_base.py?line=382'>383</a>\u001b[0m \u001b[39m# laid out so that each write is contiguous.\u001b[39;00m\n\u001b[0;32m    <a href='file:///c%3A/Users/b00/AppData/Local/Programs/Python/Python38/lib/site-packages/numpy/lib/shape_base.py?line=383'>384</a>\u001b[0m \u001b[39m# for a tuple index inds, buff[inds] = func1d(inarr_view[inds])\u001b[39;00m\n\u001b[0;32m    <a href='file:///c%3A/Users/b00/AppData/Local/Programs/Python/Python38/lib/site-packages/numpy/lib/shape_base.py?line=384'>385</a>\u001b[0m buff \u001b[39m=\u001b[39m zeros(inarr_view\u001b[39m.\u001b[39mshape[:\u001b[39m-\u001b[39m\u001b[39m1\u001b[39m] \u001b[39m+\u001b[39m res\u001b[39m.\u001b[39mshape, res\u001b[39m.\u001b[39mdtype)\n",
      "File \u001b[1;32m<__array_function__ internals>:180\u001b[0m, in \u001b[0;36msum\u001b[1;34m(*args, **kwargs)\u001b[0m\n",
      "File \u001b[1;32m~\\AppData\\Local\\Programs\\Python\\Python38\\lib\\site-packages\\numpy\\core\\fromnumeric.py:2296\u001b[0m, in \u001b[0;36msum\u001b[1;34m(a, axis, dtype, out, keepdims, initial, where)\u001b[0m\n\u001b[0;32m   <a href='file:///c%3A/Users/b00/AppData/Local/Programs/Python/Python38/lib/site-packages/numpy/core/fromnumeric.py?line=2292'>2293</a>\u001b[0m         \u001b[39mreturn\u001b[39;00m out\n\u001b[0;32m   <a href='file:///c%3A/Users/b00/AppData/Local/Programs/Python/Python38/lib/site-packages/numpy/core/fromnumeric.py?line=2293'>2294</a>\u001b[0m     \u001b[39mreturn\u001b[39;00m res\n\u001b[1;32m-> <a href='file:///c%3A/Users/b00/AppData/Local/Programs/Python/Python38/lib/site-packages/numpy/core/fromnumeric.py?line=2295'>2296</a>\u001b[0m \u001b[39mreturn\u001b[39;00m _wrapreduction(a, np\u001b[39m.\u001b[39;49madd, \u001b[39m'\u001b[39;49m\u001b[39msum\u001b[39;49m\u001b[39m'\u001b[39;49m, axis, dtype, out, keepdims\u001b[39m=\u001b[39;49mkeepdims,\n\u001b[0;32m   <a href='file:///c%3A/Users/b00/AppData/Local/Programs/Python/Python38/lib/site-packages/numpy/core/fromnumeric.py?line=2296'>2297</a>\u001b[0m                       initial\u001b[39m=\u001b[39;49minitial, where\u001b[39m=\u001b[39;49mwhere)\n",
      "File \u001b[1;32m~\\AppData\\Local\\Programs\\Python\\Python38\\lib\\site-packages\\numpy\\core\\fromnumeric.py:86\u001b[0m, in \u001b[0;36m_wrapreduction\u001b[1;34m(obj, ufunc, method, axis, dtype, out, **kwargs)\u001b[0m\n\u001b[0;32m     <a href='file:///c%3A/Users/b00/AppData/Local/Programs/Python/Python38/lib/site-packages/numpy/core/fromnumeric.py?line=82'>83</a>\u001b[0m         \u001b[39melse\u001b[39;00m:\n\u001b[0;32m     <a href='file:///c%3A/Users/b00/AppData/Local/Programs/Python/Python38/lib/site-packages/numpy/core/fromnumeric.py?line=83'>84</a>\u001b[0m             \u001b[39mreturn\u001b[39;00m reduction(axis\u001b[39m=\u001b[39maxis, out\u001b[39m=\u001b[39mout, \u001b[39m*\u001b[39m\u001b[39m*\u001b[39mpasskwargs)\n\u001b[1;32m---> <a href='file:///c%3A/Users/b00/AppData/Local/Programs/Python/Python38/lib/site-packages/numpy/core/fromnumeric.py?line=85'>86</a>\u001b[0m \u001b[39mreturn\u001b[39;00m ufunc\u001b[39m.\u001b[39;49mreduce(obj, axis, dtype, out, \u001b[39m*\u001b[39;49m\u001b[39m*\u001b[39;49mpasskwargs)\n",
      "\u001b[1;31mTypeError\u001b[0m: only integer scalar arrays can be converted to a scalar index"
     ]
    }
   ],
   "source": [
    "def tinh_tong_2(vector,axis):\n",
    "    for x in range(len(vector)):\n",
    "        for\n",
    "    return np.apply_along_axis(np.sum, axis, vector)\n",
    "print(tinh_tong_2(a,0))"
   ]
  }
 ],
 "metadata": {
  "interpreter": {
   "hash": "ac550e0b864cfc34d7417f026bcfccdbbd634fd35df20ed814519ede7c4b8130"
  },
  "kernelspec": {
   "display_name": "Python 3.8.10 64-bit",
   "language": "python",
   "name": "python3"
  },
  "language_info": {
   "codemirror_mode": {
    "name": "ipython",
    "version": 3
   },
   "file_extension": ".py",
   "mimetype": "text/x-python",
   "name": "python",
   "nbconvert_exporter": "python",
   "pygments_lexer": "ipython3",
   "version": "3.8.10"
  },
  "orig_nbformat": 4
 },
 "nbformat": 4,
 "nbformat_minor": 2
}
