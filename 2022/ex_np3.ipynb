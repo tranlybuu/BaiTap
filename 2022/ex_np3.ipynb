{
 "cells": [
  {
   "cell_type": "markdown",
   "metadata": {},
   "source": [
    "Đề: https://drive.google.com/file/d/1H59t1UIuNTS70JtuT7H8dyDdN_Ro9MC-/view?usp=sharing"
   ]
  },
  {
   "cell_type": "code",
   "execution_count": 2,
   "metadata": {},
   "outputs": [],
   "source": [
    "import numpy as np"
   ]
  },
  {
   "cell_type": "markdown",
   "metadata": {},
   "source": [
    "**Syntax:**\n",
    "\n",
    "![image](https://user-images.githubusercontent.com/70121634/157898649-3d6676e0-ae7c-490f-95e6-cfe1f037cb2c.png)\n",
    "\n",
    "*1d_func* -- Nhập hàm muốn thực hiện trên các mảng 1D được trích xuất từ mảng ban đầu\n",
    "\n",
    "*axis* -- 0 nếu muốn cắt mảng ban đầu theo cột / 1 nếu muốn cắt mảng ban đầu theo hàng\n",
    "\n",
    "*array* -- Nhập mảng muốn thực hiện"
   ]
  },
  {
   "cell_type": "markdown",
   "metadata": {},
   "source": [
    "Bài 2: Tạo một ma trận A15x17 có giá trị ngẫu nhiên"
   ]
  },
  {
   "cell_type": "code",
   "execution_count": 3,
   "metadata": {},
   "outputs": [
    {
     "name": "stdout",
     "output_type": "stream",
     "text": [
      "[[18 65 32 87 11 80 70 98 92 93 83 33 13 54 43 90 12]\n",
      " [79 96 58 14 94 63 13 83 48 13 85 72 88 48 95 66 15]\n",
      " [17 89 86 15 58 52 81 85 72 32 61 28 88 56 19 17 93]\n",
      " [89 69 10 39 80 49 63 58 88 67 64 15 20 65 11 56 74]\n",
      " [61 68 63 27 10 59 16 87 13 64 10 82 72 35 48 77 34]\n",
      " [98 22 62 35 95 16 88 58 97 48 56 40 79 23 28 45 59]\n",
      " [14 31 58 74 10 90 86 80 75 33 62 47 61 88 15 20 92]\n",
      " [49 87 52 51 61 14 30 22 92 18 99 60 77 18 81 67 84]\n",
      " [63 16 36 70 59 28 76 33 86 42 33 78 10 46 50 44 92]\n",
      " [16 92 50 46 52 51 88 91 88 94 50 77 27 49 95 78 47]\n",
      " [47 99 28 41 92 64 72 33 85 93 52 86 53 58 63 64 32]\n",
      " [16 35 79 18 51 81 53 73 74 57 47 88 13 33 92 15 95]\n",
      " [90 94 88 18 67 41 45 94 81 96 55 32 84 14 95 25 71]\n",
      " [91 66 44 10 45 94 94 37 80 68 71 61 46 16 99 13 75]\n",
      " [65 66 41 26 98 84 85 43 36 16 57 95 77 99 30 20 19]]\n"
     ]
    }
   ],
   "source": [
    "a = np.random.randint(10,100,(15,17))\n",
    "print(a)"
   ]
  },
  {
   "cell_type": "markdown",
   "metadata": {},
   "source": [
    "Bài 3: Xây dựng hàm tìm giá trị lớn nhất có tên là tim_gia_tri_lon_nhat(vector_a) có tham số\n",
    "đầu vào là 1 vector a và giá trị trả về là giá trị phần tử lớn nhất của vector này. Áp dụng hàm này\n",
    "theo từng hàng của ma trận A ở Câu 1 và xuất kết quả ra màn hình."
   ]
  },
  {
   "cell_type": "code",
   "execution_count": 4,
   "metadata": {},
   "outputs": [
    {
     "name": "stdout",
     "output_type": "stream",
     "text": [
      "[98 96 93 89 87 98 92 99 92 95 99 95 96 99 99]\n"
     ]
    }
   ],
   "source": [
    "def tim_gia_tri_lon_nhat(vector):\n",
    "    return np.apply_along_axis(np.max, 1, vector)\n",
    "print(tim_gia_tri_lon_nhat(a))"
   ]
  },
  {
   "cell_type": "markdown",
   "metadata": {},
   "source": [
    "Bài 4: Xây dựng hàm tìm giá trị nhỏ nhất có tên là tim_gia_tri_nho_nhat(vector_a) có tham số\n",
    "đầu vào là 1 vector a và giá trị trả về là giá trị phần tử nhỏ nhất của vector này. Áp dụng hàm này\n",
    "theo từng cột của ma trận A ở Câu 1 và xuất kết quả ra màn hình."
   ]
  },
  {
   "cell_type": "code",
   "execution_count": 5,
   "metadata": {},
   "outputs": [
    {
     "name": "stdout",
     "output_type": "stream",
     "text": [
      "[14 16 10 10 10 14 13 22 13 13 10 15 10 14 11 13 12]\n"
     ]
    }
   ],
   "source": [
    "def tim_gia_tri_nho_nhat(vector):\n",
    "    return np.apply_along_axis(np.min, 0, vector)\n",
    "print(tim_gia_tri_nho_nhat(a))"
   ]
  },
  {
   "cell_type": "markdown",
   "metadata": {},
   "source": [
    "Bài 5: Xây dựng hàm tìm giá trị lớn nhất có tên là tinh_tong(vector_a) có tham số đầu vào là 1\n",
    "vector a và giá trị trả về là tổng các phần tử của vector này. Áp dụng hàm này theo từng hàng của\n",
    "ma trận A ở Câu 1 và xuất kết quả ra màn hình."
   ]
  },
  {
   "cell_type": "code",
   "execution_count": 6,
   "metadata": {},
   "outputs": [
    {
     "name": "stdout",
     "output_type": "stream",
     "text": [
      "[ 813  995  787  571  883  866  960  975 1107  834  885  894  808  702\n",
      "  864  697  894]\n"
     ]
    }
   ],
   "source": [
    "def tinh_tong(vector):\n",
    "    return np.apply_along_axis(np.sum, 0, vector)\n",
    "print(tinh_tong(a))"
   ]
  },
  {
   "cell_type": "markdown",
   "metadata": {},
   "source": [
    "Bài 6: Xây dựng hàm tìm giá trị lớn nhất có tên là tinh_tong_2(vector_a) có tham số đầu vào là\n",
    "1 vector a và giá trị trả về là tổng các phần tử có chỉ số lẻ (1 – 3 – 5 , .v.v.) của vector này. Áp\n",
    "dụng hàm này theo từng cột của ma trận A ở Câu 1 và xuất kết quả ra màn hình. Tiếp tục áp dụng\n",
    "hàm này theo từng hàng của ma trận A kể trên và xuất kết quả ra màn hình."
   ]
  },
  {
   "cell_type": "code",
   "execution_count": 7,
   "metadata": {},
   "outputs": [
    {
     "name": "stdout",
     "output_type": "stream",
     "text": [
      "[[1 3 9 2]\n",
      " [2 6 5 5]]\n"
     ]
    }
   ],
   "source": [
    "b = np.random.randint(1,10,(2,4))\n",
    "print(b)"
   ]
  },
  {
   "cell_type": "code",
   "execution_count": 8,
   "metadata": {},
   "outputs": [
    {
     "name": "stdout",
     "output_type": "stream",
     "text": [
      "[561 475 183 295 389 344 340 565 351 356 591 328 400 304 616 259 474]\n",
      "[428 446 477 467 422 433 262 572 188 437 514 632 480 492 581]\n"
     ]
    }
   ],
   "source": [
    "def tinh_tong_1(vector):\n",
    "  return sum(n for n in vector if n % 2 != 0)\n",
    "def tinh_tong_2(vector,axis):\n",
    "    return np.apply_along_axis(tinh_tong_1, axis, vector)\n",
    "print(tinh_tong_2(a,0))\n",
    "print(tinh_tong_2(a,1))"
   ]
  }
 ],
 "metadata": {
  "interpreter": {
   "hash": "ac550e0b864cfc34d7417f026bcfccdbbd634fd35df20ed814519ede7c4b8130"
  },
  "kernelspec": {
   "display_name": "Python 3.8.10 64-bit",
   "language": "python",
   "name": "python3"
  },
  "language_info": {
   "codemirror_mode": {
    "name": "ipython",
    "version": 3
   },
   "file_extension": ".py",
   "mimetype": "text/x-python",
   "name": "python",
   "nbconvert_exporter": "python",
   "pygments_lexer": "ipython3",
   "version": "3.8.10"
  },
  "orig_nbformat": 4
 },
 "nbformat": 4,
 "nbformat_minor": 2
}
