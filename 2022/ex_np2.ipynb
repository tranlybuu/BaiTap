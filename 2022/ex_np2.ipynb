{
 "cells": [
  {
   "cell_type": "code",
   "execution_count": 1,
   "metadata": {},
   "outputs": [],
   "source": [
    "import numpy as np"
   ]
  },
  {
   "cell_type": "markdown",
   "metadata": {},
   "source": [
    "Bài 1"
   ]
  },
  {
   "cell_type": "code",
   "execution_count": 6,
   "metadata": {},
   "outputs": [
    {
     "name": "stdout",
     "output_type": "stream",
     "text": [
      "[[4 5 6 3 9]\n",
      " [3 2 1 2 1]\n",
      " [7 9 7 4 2]\n",
      " [4 5 4 8 9]\n",
      " [1 2 5 1 1]\n",
      " [5 8 7 1 2]\n",
      " [8 3 5 2 4]]\n"
     ]
    }
   ],
   "source": [
    "a = np.random.randint(1,10,(7,5))\n",
    "print(a)"
   ]
  },
  {
   "cell_type": "markdown",
   "metadata": {},
   "source": [
    "Bài 2"
   ]
  },
  {
   "cell_type": "code",
   "execution_count": 11,
   "metadata": {},
   "outputs": [
    {
     "name": "stdout",
     "output_type": "stream",
     "text": [
      "[[0. 0. 0. 0. 0. 0. 0.]\n",
      " [0. 0. 0. 0. 0. 0. 0.]\n",
      " [0. 0. 0. 0. 0. 0. 0.]\n",
      " [0. 0. 0. 0. 0. 0. 0.]\n",
      " [0. 0. 0. 0. 0. 0. 0.]\n",
      " [0. 0. 0. 0. 0. 0. 0.]]\n"
     ]
    }
   ],
   "source": [
    "a = np.zeros(shape=(6,7))\n",
    "print(a)"
   ]
  },
  {
   "cell_type": "markdown",
   "metadata": {},
   "source": [
    "Bài 3"
   ]
  },
  {
   "cell_type": "code",
   "execution_count": 12,
   "metadata": {},
   "outputs": [
    {
     "name": "stdout",
     "output_type": "stream",
     "text": [
      "[[3 2 5 5 8 3 1]\n",
      " [4 1 9 3 4 3 8]\n",
      " [5 5 5 3 2 4 1]\n",
      " [7 9 8 8 2 9 8]\n",
      " [1 3 2 2 3 1 4]\n",
      " [6 1 1 6 4 8 8]\n",
      " [2 4 5 8 4 7 1]]\n"
     ]
    }
   ],
   "source": [
    "a = np.random.randint(1,10,(7,7))\n",
    "print(a)"
   ]
  },
  {
   "cell_type": "markdown",
   "metadata": {},
   "source": [
    "Bài 4"
   ]
  },
  {
   "cell_type": "code",
   "execution_count": 15,
   "metadata": {},
   "outputs": [
    {
     "name": "stdout",
     "output_type": "stream",
     "text": [
      "[[15.  0.  0.  0.  0.  0.]\n",
      " [ 0. 15.  0.  0.  0.  0.]\n",
      " [ 0.  0. 15.  0.  0.  0.]\n",
      " [ 0.  0.  0. 15.  0.  0.]\n",
      " [ 0.  0.  0.  0. 15.  0.]\n",
      " [ 0.  0.  0.  0.  0. 15.]]\n"
     ]
    }
   ],
   "source": [
    "a = np.zeros(shape=(6,6))\n",
    "np.fill_diagonal(a,15)\n",
    "print(a)"
   ]
  },
  {
   "cell_type": "markdown",
   "metadata": {},
   "source": [
    "Bài 5 + 6"
   ]
  },
  {
   "cell_type": "code",
   "execution_count": 22,
   "metadata": {},
   "outputs": [
    {
     "name": "stdout",
     "output_type": "stream",
     "text": [
      "Ma trận tam giác trên:\n",
      " [[8 5 1 9 9 6]\n",
      " [0 1 3 9 4 2]\n",
      " [0 0 2 7 8 3]\n",
      " [0 0 0 7 8 6]\n",
      " [0 0 0 0 6 7]\n",
      " [0 0 0 0 0 9]]\n",
      "Ma trận tam giác dưới:\n",
      " [[8 0 0 0 0 0]\n",
      " [5 1 0 0 0 0]\n",
      " [1 3 2 0 0 0]\n",
      " [9 9 7 7 0 0]\n",
      " [9 4 8 8 6 0]\n",
      " [6 2 3 6 7 9]]\n"
     ]
    }
   ],
   "source": [
    "a = np.random.randint(1,10,(6,6))\n",
    "print(\"Ma trận tam giác trên:\\n\",np.triu(a))\n",
    "print(\"Ma trận tam giác dưới:\\n\",np.transpose(np.triu(a)))"
   ]
  },
  {
   "cell_type": "markdown",
   "metadata": {},
   "source": [
    "Bài 7"
   ]
  },
  {
   "cell_type": "code",
   "execution_count": 24,
   "metadata": {},
   "outputs": [
    {
     "name": "stdout",
     "output_type": "stream",
     "text": [
      "[[1. 0. 0. 0. 0. 0.]\n",
      " [0. 1. 0. 0. 0. 0.]\n",
      " [0. 0. 1. 0. 0. 0.]\n",
      " [0. 0. 0. 1. 0. 0.]\n",
      " [0. 0. 0. 0. 1. 0.]\n",
      " [0. 0. 0. 0. 0. 1.]]\n"
     ]
    }
   ],
   "source": [
    "print(np.identity(6))"
   ]
  },
  {
   "cell_type": "markdown",
   "metadata": {},
   "source": [
    "Bài 8"
   ]
  },
  {
   "cell_type": "code",
   "execution_count": 28,
   "metadata": {},
   "outputs": [
    {
     "name": "stdout",
     "output_type": "stream",
     "text": [
      "Phép cộng ma trận:\n",
      " [[16 11 11  3 11 11  6]\n",
      " [11  9 15  6 12 10 15]\n",
      " [11  4 11 11 14 12  5]\n",
      " [ 9  9 11 12 17 11 12]\n",
      " [ 5  6 12 13  9 10 17]\n",
      " [ 8  6 10 11 10 10  7]]\n"
     ]
    }
   ],
   "source": [
    "a = np.random.randint(1,10,(6,7))\n",
    "b = np.random.randint(1,10,(6,7))\n",
    "print(\"Phép cộng ma trận:\\n\",a+b)"
   ]
  },
  {
   "cell_type": "code",
   "execution_count": 30,
   "metadata": {},
   "outputs": [
    {
     "name": "stdout",
     "output_type": "stream",
     "text": [
      "Tích vô hướng ma trận với 1 số:\n",
      " [[30 40 25  5 45 45 20]\n",
      " [25 45 15 20 10 25 15]\n",
      " [35 35 30 40 10  5 25]\n",
      " [35 35 30 25  5  5 30]\n",
      " [ 5 30 15  5 15 10 40]\n",
      " [20 25 10 35 25 20 45]]\n"
     ]
    }
   ],
   "source": [
    "a = np.random.randint(1,10,(6,7))\n",
    "print(\"Tích vô hướng ma trận với 1 số:\\n\",np.inner(a,5))"
   ]
  },
  {
   "cell_type": "code",
   "execution_count": 35,
   "metadata": {},
   "outputs": [
    {
     "name": "stdout",
     "output_type": "stream",
     "text": [
      "Vector chuyển vị:\n",
      " [[9 6 8]\n",
      " [2 7 5]\n",
      " [5 5 2]\n",
      " [6 4 6]\n",
      " [5 5 7]\n",
      " [7 3 2]\n",
      " [1 1 6]]\n"
     ]
    }
   ],
   "source": [
    "a = np.random.randint(1,10,(3,7))\n",
    "print(\"Vector chuyển vị:\\n\",np.transpose(a))"
   ]
  },
  {
   "cell_type": "code",
   "execution_count": 34,
   "metadata": {},
   "outputs": [
    {
     "name": "stdout",
     "output_type": "stream",
     "text": [
      "Phép nhân 2 ma trận:\n",
      " [[132 117 161 123 158]\n",
      " [201 161 165 183 187]\n",
      " [144 145 131 149 151]\n",
      " [155 139 180 161 152]\n",
      " [169 174 150 176 182]]\n"
     ]
    }
   ],
   "source": [
    "a = np.random.randint(1,10,(5,7))\n",
    "b = np.random.randint(1,10,(7,5))\n",
    "print(\"Phép nhân 2 ma trận:\\n\",np.dot(a,b))"
   ]
  },
  {
   "cell_type": "code",
   "execution_count": 39,
   "metadata": {},
   "outputs": [
    {
     "name": "stdout",
     "output_type": "stream",
     "text": [
      "Vector khả nghịch:\n",
      " [[-0.08910203  0.12437498  0.10404749 -0.05309319 -0.02429229]\n",
      " [-0.08426123  0.01066862  0.13479766 -0.01676482  0.01100933]\n",
      " [-0.25401091  0.01468359  0.07184551 -0.0512922   0.23159529]\n",
      " [-0.36815286 -0.01872685  0.10818771  0.03858399  0.26872997]\n",
      " [ 0.18651584 -0.11440966 -0.05625063  0.01329995 -0.01925558]\n",
      " [ 0.18301069  0.09092022 -0.11432308  0.11248805 -0.23892794]\n",
      " [ 0.329816    0.01474017 -0.16231662  0.04317901 -0.21022714]]\n"
     ]
    }
   ],
   "source": [
    "a = np.random.randint(1,10,(5,7))\n",
    "print(\"Vector khả nghịch:\\n\",np.linalg.pinv(a))"
   ]
  },
  {
   "cell_type": "markdown",
   "metadata": {},
   "source": [
    "Bài 9"
   ]
  },
  {
   "cell_type": "code",
   "execution_count": 40,
   "metadata": {},
   "outputs": [
    {
     "name": "stdout",
     "output_type": "stream",
     "text": [
      "Row vector:\n",
      " [[6 5 9 8 1 3 3 7]]\n",
      "Row vector:\n",
      " [[8]\n",
      " [5]\n",
      " [2]\n",
      " [3]\n",
      " [6]\n",
      " [8]\n",
      " [7]\n",
      " [4]]\n"
     ]
    }
   ],
   "source": [
    "a = np.random.randint(1,10,(1,8))\n",
    "print(\"Row vector:\\n\",a)\n",
    "a = np.random.randint(1,10,(8,1))\n",
    "print(\"Row vector:\\n\",a)"
   ]
  },
  {
   "cell_type": "markdown",
   "metadata": {},
   "source": [
    "Bài 10"
   ]
  },
  {
   "cell_type": "markdown",
   "metadata": {},
   "source": [
    "![image](https://user-images.githubusercontent.com/70121634/157868695-2ee29720-c077-47ce-81cb-5aef1e394e30.png)"
   ]
  },
  {
   "cell_type": "code",
   "execution_count": 52,
   "metadata": {},
   "outputs": [
    {
     "name": "stdout",
     "output_type": "stream",
     "text": [
      "Vector A:\n",
      " [[ -3   7   4   6   6]\n",
      " [ -6  -3   7   3   2]\n",
      " [  1   9  -2   8   4]\n",
      " [ -4  -7  -4   8 -10]]\n",
      "Vector B:\n",
      " [[ 7]\n",
      " [-3]\n",
      " [-1]\n",
      " [-7]]\n",
      "=> Vector X:\n",
      " [[-4.09809514]\n",
      " [ 4.4838347 ]\n",
      " [ 0.18886229]\n",
      " [-2.98024357]\n",
      " [-3.25918601]]\n"
     ]
    }
   ],
   "source": [
    "m = 4\n",
    "n = 5\n",
    "a = np.random.randint(-10,10,(m,n))\n",
    "print(\"Vector A:\\n\",a)\n",
    "b = np.random.randint(-10,10,(m,1))\n",
    "print(\"Vector B:\\n\",b)\n",
    "x = np.dot(np.linalg.pinv(a),b)\n",
    "print(\"=> Vector X:\\n\",x)"
   ]
  }
 ],
 "metadata": {
  "interpreter": {
   "hash": "ac550e0b864cfc34d7417f026bcfccdbbd634fd35df20ed814519ede7c4b8130"
  },
  "kernelspec": {
   "display_name": "Python 3.8.10 64-bit",
   "language": "python",
   "name": "python3"
  },
  "language_info": {
   "codemirror_mode": {
    "name": "ipython",
    "version": 3
   },
   "file_extension": ".py",
   "mimetype": "text/x-python",
   "name": "python",
   "nbconvert_exporter": "python",
   "pygments_lexer": "ipython3",
   "version": "3.8.10"
  },
  "orig_nbformat": 4
 },
 "nbformat": 4,
 "nbformat_minor": 2
}
