{
 "cells": [
  {
   "cell_type": "markdown",
   "metadata": {},
   "source": [
    "Đề:\n",
    "https://docs.google.com/document/d/17-O0_W8IOwfIDH7Qhmmklyjae-LPK1KZ3DpjLfiPFTs/edit?usp=sharing"
   ]
  },
  {
   "cell_type": "code",
   "execution_count": 20,
   "metadata": {},
   "outputs": [],
   "source": [
    "import numpy as np"
   ]
  },
  {
   "cell_type": "markdown",
   "metadata": {},
   "source": [
    "Bài 1: Sử dụng thư viện Numpy, hãy tạo một vector a có 7 chiều (tương ứng 7 phần tử) với giá  trị các phần tử được sinh bằng hàm (kết quả xuất ra màn hình):\n",
    "\n",
    "- np.arrange()  \n",
    "\n",
    "- np.linspace() \n",
    "\n",
    "- np.logspace() \n",
    "\n",
    "- np.random.rand() \n"
   ]
  },
  {
   "cell_type": "code",
   "execution_count": 21,
   "metadata": {},
   "outputs": [
    {
     "name": "stdout",
     "output_type": "stream",
     "text": [
      "[0 1 2 3 4 5 6]\n",
      "số chiều: 1\n",
      "kích thước: (7,)\n"
     ]
    }
   ],
   "source": [
    "\"\"\" numpy.arange(start, stop, step, dtype) \"\"\"\n",
    "a = np.arange(7)\n",
    "print(a)\n",
    "print('số chiều:',np.ndim(a))\n",
    "print(\"kích thước:\",np.shape(a))"
   ]
  },
  {
   "cell_type": "code",
   "execution_count": 22,
   "metadata": {},
   "outputs": [
    {
     "name": "stdout",
     "output_type": "stream",
     "text": [
      "[ 1  2  4  5  7  8 10]\n",
      "số chiều: 1\n",
      "kích thước: (7,)\n"
     ]
    }
   ],
   "source": [
    "\"\"\" numpy.linspace(start, stop, num=50, endpoint=True, retstep=False, dtype=None, axis=0) \"\"\"\n",
    "a = np.linspace(1,10,num=7, dtype=int)\n",
    "print(a)\n",
    "print('số chiều:',np.ndim(a))\n",
    "print(\"kích thước:\",np.shape(a))"
   ]
  },
  {
   "cell_type": "code",
   "execution_count": 23,
   "metadata": {},
   "outputs": [
    {
     "name": "stdout",
     "output_type": "stream",
     "text": [
      "[ 3.          4.32674871  6.24025147  9.         12.98024613 18.72075441\n",
      " 27.        ]\n",
      "số chiều: 1\n",
      "kích thước: (7,)\n"
     ]
    }
   ],
   "source": [
    "\"\"\" numpy.logspace(start, stop, num=50, endpoint=True, base=10.0, dtype=None, axis=0 ) \"\"\"\n",
    "a = np.logspace(1,3,num=7,base=3)\n",
    "# kết quả trả về là 1 mãng chứa kết quả của base mũ lần lượt các số [start,end]/num\n",
    "print(a)\n",
    "print('số chiều:',np.ndim(a))\n",
    "print(\"kích thước:\",np.shape(a))"
   ]
  },
  {
   "cell_type": "code",
   "execution_count": 24,
   "metadata": {},
   "outputs": [
    {
     "name": "stdout",
     "output_type": "stream",
     "text": [
      "[[0.08746399]\n",
      " [0.27231769]\n",
      " [0.52311849]\n",
      " [0.85051415]\n",
      " [0.01719117]\n",
      " [0.22748364]\n",
      " [0.48103804]]\n",
      "số chiều: 2\n",
      "kích thước: (7, 1)\n"
     ]
    }
   ],
   "source": [
    "\"\"\" random.rand(d0, d1, ..., dn) \"\"\"\n",
    "a = np.random.rand(7,1)\n",
    "print(a)\n",
    "print('số chiều:',np.ndim(a))\n",
    "print(\"kích thước:\",np.shape(a))"
   ]
  },
  {
   "cell_type": "markdown",
   "metadata": {},
   "source": [
    "Bài 2"
   ]
  },
  {
   "cell_type": "code",
   "execution_count": 25,
   "metadata": {},
   "outputs": [
    {
     "name": "stdout",
     "output_type": "stream",
     "text": [
      "[[ 0  1  2  3  4  5  6]\n",
      " [ 7  8  9 10 11 12 13]\n",
      " [14 15 16 17 18 19 20]\n",
      " [21 22 23 24 25 26 27]\n",
      " [28 29 30 31 32 33 34]\n",
      " [35 36 37 38 39 40 41]\n",
      " [42 43 44 45 46 47 48]\n",
      " [49 50 51 52 53 54 55]\n",
      " [56 57 58 59 60 61 62]\n",
      " [63 64 65 66 67 68 69]]\n",
      "số chiều: 2\n",
      "kích thước: (10, 7)\n"
     ]
    }
   ],
   "source": [
    "a = np.arange(70)\n",
    "a.shape = (10,7)\n",
    "print(a)\n",
    "print('số chiều:',np.ndim(a))\n",
    "print(\"kích thước:\",np.shape(a))"
   ]
  },
  {
   "cell_type": "code",
   "execution_count": 26,
   "metadata": {},
   "outputs": [
    {
     "name": "stdout",
     "output_type": "stream",
     "text": [
      "[[  1   2   3   5   6   8   9]\n",
      " [ 11  12  13  15  16  18  19]\n",
      " [ 21  22  23  25  26  28  29]\n",
      " [ 31  32  34  35  36  38  39]\n",
      " [ 41  42  44  45  46  48  49]\n",
      " [ 51  52  54  55  56  58  59]\n",
      " [ 61  62  64  65  67  68  69]\n",
      " [ 71  72  74  75  77  78  79]\n",
      " [ 81  82  84  85  87  88  89]\n",
      " [ 91  92  94  95  97  98 100]]\n",
      "số chiều: 2\n",
      "kích thước: (10, 7)\n"
     ]
    }
   ],
   "source": [
    "a = np.linspace(1,100,num=70, dtype=int).reshape(10,7)\n",
    "print(a)\n",
    "print('số chiều:',np.ndim(a))\n",
    "print(\"kích thước:\",np.shape(a))"
   ]
  },
  {
   "cell_type": "code",
   "execution_count": 27,
   "metadata": {},
   "outputs": [
    {
     "name": "stdout",
     "output_type": "stream",
     "text": [
      "[[2.00000000e+00 4.00000000e+00 8.00000000e+00 1.60000000e+01\n",
      "  3.20000000e+01 6.40000000e+01 1.28000000e+02]\n",
      " [2.56000000e+02 5.12000000e+02 1.02400000e+03 2.04800000e+03\n",
      "  4.09600000e+03 8.19200000e+03 1.63840000e+04]\n",
      " [3.27680000e+04 6.55360000e+04 1.31072000e+05 2.62144000e+05\n",
      "  5.24288000e+05 1.04857600e+06 2.09715200e+06]\n",
      " [4.19430400e+06 8.38860800e+06 1.67772160e+07 3.35544320e+07\n",
      "  6.71088640e+07 1.34217728e+08 2.68435456e+08]\n",
      " [5.36870912e+08 1.07374182e+09 2.14748365e+09 4.29496730e+09\n",
      "  8.58993459e+09 1.71798692e+10 3.43597384e+10]\n",
      " [6.87194767e+10 1.37438953e+11 2.74877907e+11 5.49755814e+11\n",
      "  1.09951163e+12 2.19902326e+12 4.39804651e+12]\n",
      " [8.79609302e+12 1.75921860e+13 3.51843721e+13 7.03687442e+13\n",
      "  1.40737488e+14 2.81474977e+14 5.62949953e+14]\n",
      " [1.12589991e+15 2.25179981e+15 4.50359963e+15 9.00719925e+15\n",
      "  1.80143985e+16 3.60287970e+16 7.20575940e+16]\n",
      " [1.44115188e+17 2.88230376e+17 5.76460752e+17 1.15292150e+18\n",
      "  2.30584301e+18 4.61168602e+18 9.22337204e+18]\n",
      " [1.84467441e+19 3.68934881e+19 7.37869763e+19 1.47573953e+20\n",
      "  2.95147905e+20 5.90295810e+20 1.18059162e+21]]\n",
      "số chiều: 2\n",
      "kích thước: (10, 7)\n"
     ]
    }
   ],
   "source": [
    "a = np.logspace(1,70,num=70,base=2).reshape(10,7)\n",
    "print(a)\n",
    "print('số chiều:',np.ndim(a))\n",
    "print(\"kích thước:\",np.shape(a))"
   ]
  },
  {
   "cell_type": "code",
   "execution_count": 28,
   "metadata": {},
   "outputs": [
    {
     "name": "stdout",
     "output_type": "stream",
     "text": [
      "[[0.46310101 0.08267995 0.31895934 0.57728464 0.94324175 0.5235328\n",
      "  0.19773549]\n",
      " [0.34980241 0.90362653 0.62539278 0.40011827 0.64047955 0.29599889\n",
      "  0.59015979]\n",
      " [0.41323302 0.62335175 0.5289633  0.40092659 0.7934128  0.30251528\n",
      "  0.33153447]\n",
      " [0.14890437 0.11459068 0.60686333 0.03753666 0.44499436 0.4402453\n",
      "  0.6522694 ]\n",
      " [0.5176304  0.74700106 0.66934079 0.95537524 0.51038131 0.9851575\n",
      "  0.27260151]\n",
      " [0.9285508  0.56620252 0.531435   0.27870432 0.32934395 0.42765073\n",
      "  0.73871121]\n",
      " [0.73127138 0.32647633 0.1185194  0.14617383 0.62941685 0.9057657\n",
      "  0.83080823]\n",
      " [0.78579202 0.7337443  0.59042022 0.66092636 0.77260693 0.39348618\n",
      "  0.59255627]\n",
      " [0.17080989 0.0537516  0.10683341 0.33486219 0.29456344 0.62840666\n",
      "  0.98272446]\n",
      " [0.72441069 0.44109179 0.94519789 0.24344057 0.4700114  0.50775671\n",
      "  0.47233493]]\n",
      "số chiều: 2\n",
      "kích thước: (10, 7)\n"
     ]
    }
   ],
   "source": [
    "a = np.random.rand(10,7)\n",
    "print(a)\n",
    "print('số chiều:',np.ndim(a))\n",
    "print(\"kích thước:\",np.shape(a))"
   ]
  },
  {
   "cell_type": "markdown",
   "metadata": {},
   "source": [
    "Bài 3"
   ]
  },
  {
   "cell_type": "code",
   "execution_count": 29,
   "metadata": {},
   "outputs": [
    {
     "name": "stdout",
     "output_type": "stream",
     "text": [
      "Ma trận ban đầu:\n",
      " [[  1   2   3   5   6   8   9]\n",
      " [ 11  12  13  15  16  18  19]\n",
      " [ 21  22  23  25  26  28  29]\n",
      " [ 31  32  34  35  36  38  39]\n",
      " [ 41  42  44  45  46  48  49]\n",
      " [ 51  52  54  55  56  58  59]\n",
      " [ 61  62  64  65  67  68  69]\n",
      " [ 71  72  74  75  77  78  79]\n",
      " [ 81  82  84  85  87  88  89]\n",
      " [ 91  92  94  95  97  98 100]]\n",
      "Làm phẳng ma trận:\n",
      " [  1   2   3   5   6   8   9  11  12  13  15  16  18  19  21  22  23  25\n",
      "  26  28  29  31  32  34  35  36  38  39  41  42  44  45  46  48  49  51\n",
      "  52  54  55  56  58  59  61  62  64  65  67  68  69  71  72  74  75  77\n",
      "  78  79  81  82  84  85  87  88  89  91  92  94  95  97  98 100]\n",
      "Chuyển lại thành ma trận 10x7:\n",
      " [[  1   2   3   5   6   8   9]\n",
      " [ 11  12  13  15  16  18  19]\n",
      " [ 21  22  23  25  26  28  29]\n",
      " [ 31  32  34  35  36  38  39]\n",
      " [ 41  42  44  45  46  48  49]\n",
      " [ 51  52  54  55  56  58  59]\n",
      " [ 61  62  64  65  67  68  69]\n",
      " [ 71  72  74  75  77  78  79]\n",
      " [ 81  82  84  85  87  88  89]\n",
      " [ 91  92  94  95  97  98 100]]\n"
     ]
    }
   ],
   "source": [
    "\"\"\" numpy_array.flatten(order) - order = {\"C\", \"F\"}\"\"\"\n",
    "a = np.linspace(1,100,num=70, dtype=int).reshape(10,7)\n",
    "print(\"Ma trận ban đầu:\\n\",a)\n",
    "print(\"Làm phẳng ma trận:\\n\",a.flatten(\"C\"))\n",
    "print(\"Chuyển lại thành ma trận 10x7:\\n\",a.reshape(10,7))"
   ]
  },
  {
   "cell_type": "markdown",
   "metadata": {},
   "source": [
    "Bài 4"
   ]
  },
  {
   "cell_type": "code",
   "execution_count": 30,
   "metadata": {},
   "outputs": [
    {
     "name": "stdout",
     "output_type": "stream",
     "text": [
      "[[2.00000000e+00 2.18482356e+00 2.38672700e+00 2.60728869e+00\n",
      "  2.84823289e+00 3.11144316e+00 3.39897717e+00 3.71308270e+00\n",
      "  4.05621529e+00 4.43105737e+00 4.84053928e+00 5.28786214e+00\n",
      "  5.77652290e+00 6.31034167e+00 6.89349158e+00]\n",
      " [7.53053142e+00 8.22644125e+00 8.98666134e+00 9.81713472e+00\n",
      "  1.07243536e+01 1.17154103e+01 1.27980522e+01 1.39807430e+01\n",
      "  1.52727284e+01 1.66841084e+01 1.82259166e+01 1.99102060e+01\n",
      "  2.17501436e+01 2.37601131e+01 2.59558275e+01]\n",
      " [2.83544517e+01 3.09747371e+01 3.38371678e+01 3.69641207e+01\n",
      "  4.03800410e+01 4.41116325e+01 4.81880671e+01 5.26412122e+01\n",
      "  5.75058804e+01 6.28201012e+01 6.86254187e+01 7.49672159e+01\n",
      "  8.18950699e+01 8.94631392e+01 9.77305872e+01]\n",
      " [1.06762045e+02 1.16628116e+02 1.27405928e+02 1.39179736e+02\n",
      "  1.52041584e+02 1.66092017e+02 1.81440877e+02 1.98208151e+02\n",
      "  2.16524920e+02 2.36534373e+02 2.58392936e+02 2.82271487e+02\n",
      "  3.08356698e+02 3.36852490e+02 3.67981629e+02]\n",
      " [4.01987467e+02 4.39135845e+02 4.79717170e+02 5.24048689e+02\n",
      "  5.72476962e+02 6.25380578e+02 6.83173111e+02 7.46306355e+02\n",
      "  8.15273855e+02 8.90614764e+02 9.72918061e+02 1.06282715e+03\n",
      "  1.16104490e+03 1.26833913e+03 1.38554861e+03]\n",
      " [1.51358962e+03 1.65346314e+03 1.80626261e+03 1.97318256e+03\n",
      "  2.15552787e+03 2.35472404e+03 2.57232829e+03 2.81004173e+03\n",
      "  3.06972269e+03 3.35340123e+03 3.66329501e+03 4.00182663e+03\n",
      "  4.37164256e+03 4.77563384e+03 5.21695867e+03]\n",
      " [5.69906711e+03 6.22572806e+03 6.80105868e+03 7.42955663e+03\n",
      "  8.11613519e+03 8.86616170e+03 9.68549950e+03 1.05805538e+04\n",
      "  1.15583216e+04 1.26264467e+04 1.37932791e+04 1.50679406e+04\n",
      "  1.64603958e+04 1.79815303e+04 1.96432356e+04]\n",
      " [2.14585020e+04 2.34415204e+04 2.56077930e+04 2.79742548e+04\n",
      "  3.05594055e+04 3.33834546e+04 3.64684792e+04 3.98385963e+04\n",
      "  4.35201519e+04 4.75419267e+04 5.19353609e+04 5.67348001e+04\n",
      "  6.19777640e+04 6.77052396e+04 7.39620014e+04]\n",
      " [8.07969617e+04 8.82635529e+04 9.64201451e+04 1.05330502e+05\n",
      "  1.15064282e+05 1.25697577e+05 1.37313514e+05 1.50002901e+05\n",
      "  1.63864936e+05 1.79007986e+05 1.95550433e+05 2.13621597e+05\n",
      "  2.33362750e+05 2.54928217e+05 2.78486588e+05]\n",
      " [3.04222030e+05 3.32335729e+05 3.63047466e+05 3.96597329e+05\n",
      "  4.33247595e+05 4.73284777e+05 5.17021866e+05 5.64800778e+05\n",
      "  6.16995024e+05 6.74012633e+05 7.36299342e+05 8.04342075e+05\n",
      "  8.78672760e+05 9.59872475e+05 1.04857600e+06]]\n"
     ]
    }
   ],
   "source": [
    "a = np.logspace(1,20,num=150,base=2).reshape(10,15)\n",
    "print(a)"
   ]
  },
  {
   "cell_type": "code",
   "execution_count": 31,
   "metadata": {},
   "outputs": [
    {
     "data": {
      "text/plain": [
       "array([[106.76204489, 116.62811565, 127.40592759, 139.17973633,\n",
       "        152.0415837 , 166.09201731, 181.44087652, 198.20815115,\n",
       "        216.52491951, 236.53437305, 258.39293585, 282.27148737,\n",
       "        308.35669838, 336.85249021, 367.98162892]])"
      ]
     },
     "execution_count": 31,
     "metadata": {},
     "output_type": "execute_result"
    }
   ],
   "source": [
    "# Trích xuất hàng thứ 3\n",
    "row3 = a[[3],:]\n",
    "row3"
   ]
  },
  {
   "cell_type": "code",
   "execution_count": 32,
   "metadata": {},
   "outputs": [
    {
     "data": {
      "text/plain": [
       "array([[3.11144316e+00],\n",
       "       [1.17154103e+01],\n",
       "       [4.41116325e+01],\n",
       "       [1.66092017e+02],\n",
       "       [6.25380578e+02],\n",
       "       [2.35472404e+03],\n",
       "       [8.86616170e+03],\n",
       "       [3.33834546e+04],\n",
       "       [1.25697577e+05],\n",
       "       [4.73284777e+05]])"
      ]
     },
     "execution_count": 32,
     "metadata": {},
     "output_type": "execute_result"
    }
   ],
   "source": [
    "# Trích xuất cột thứ 5\n",
    "col5 = a[:,[5]]\n",
    "col5"
   ]
  },
  {
   "cell_type": "markdown",
   "metadata": {},
   "source": [
    "Bài 5"
   ]
  },
  {
   "cell_type": "code",
   "execution_count": 39,
   "metadata": {},
   "outputs": [],
   "source": [
    "from scipy import stats\n",
    "def gia_tri_trung_binh(matrix,axis):\n",
    "    return np.apply_along_axis(np.mean,axis,matrix)\n",
    "def gia_tri_trung_vi(matrix,axis):\n",
    "    return np.apply_along_axis(np.median,axis,matrix)\n",
    "def gia_tri_yeu_vi(matrix,axis):\n",
    "    return np.apply_along_axis(stats.mode,axis,matrix)\n",
    "def phuong_sai(matrix,axis):\n",
    "    return np.apply_along_axis(np.var,axis,matrix)\n",
    "def do_lech_chuan(matrix,axis):\n",
    "    return np.apply_along_axis(np.std,axis,matrix)"
   ]
  },
  {
   "cell_type": "code",
   "execution_count": 34,
   "metadata": {},
   "outputs": [
    {
     "name": "stdout",
     "output_type": "stream",
     "text": [
      "[[  0   1   2   3   4   5   6   7   8   9]\n",
      " [ 10  11  12  13  14  15  16  17  18  19]\n",
      " [ 20  21  22  23  24  25  26  27  28  29]\n",
      " [ 30  31  32  33  34  35  36  37  38  39]\n",
      " [ 40  41  42  43  44  45  46  47  48  49]\n",
      " [ 50  51  52  53  54  55  56  57  58  59]\n",
      " [ 60  61  62  63  64  65  66  67  68  69]\n",
      " [ 70  71  72  73  74  75  76  77  78  79]\n",
      " [ 80  81  82  83  84  85  86  87  88  89]\n",
      " [ 90  91  92  93  94  95  96  97  98  99]\n",
      " [100 101 102 103 104 105 106 107 108 109]\n",
      " [110 111 112 113 114 115 116 117 118 119]\n",
      " [120 121 122 123 124 125 126 127 128 129]\n",
      " [130 131 132 133 134 135 136 137 138 139]\n",
      " [140 141 142 143 144 145 146 147 148 149]]\n"
     ]
    }
   ],
   "source": [
    "a = np.arange(150).reshape(15,10)\n",
    "print(a)"
   ]
  },
  {
   "cell_type": "code",
   "execution_count": 43,
   "metadata": {},
   "outputs": [
    {
     "name": "stdout",
     "output_type": "stream",
     "text": [
      "Giá trị trung bình:  [  4.5  14.5  24.5  34.5  44.5  54.5  64.5  74.5  84.5  94.5 104.5 114.5\n",
      " 124.5 134.5 144.5]\n",
      "Giá trị trung vị:  [  4.5  14.5  24.5  34.5  44.5  54.5  64.5  74.5  84.5  94.5 104.5 114.5\n",
      " 124.5 134.5 144.5]\n",
      "Giá trị yếu vị:  [  0   1  10   1  20   1  30   1  40   1  50   1  60   1  70   1  80   1\n",
      "  90   1 100   1 110   1 120   1 130   1 140   1]\n",
      "Phương sai:  [8.25 8.25 8.25 8.25 8.25 8.25 8.25 8.25 8.25 8.25 8.25 8.25 8.25 8.25\n",
      " 8.25]\n",
      "Độ lệch chuẩn:  [2.87228132 2.87228132 2.87228132 2.87228132 2.87228132 2.87228132\n",
      " 2.87228132 2.87228132 2.87228132 2.87228132 2.87228132 2.87228132\n",
      " 2.87228132 2.87228132 2.87228132]\n"
     ]
    }
   ],
   "source": [
    "# Áp dụng vào từng hàng\n",
    "print(\"Giá trị trung bình: \", gia_tri_trung_binh(a,1))\n",
    "print(\"Giá trị trung vị: \", gia_tri_trung_binh(a,1))\n",
    "print(\"Giá trị yếu vị: \", gia_tri_yeu_vi(a,1).flatten())\n",
    "print(\"Phương sai: \", phuong_sai(a,1))\n",
    "print(\"Độ lệch chuẩn: \", do_lech_chuan(a,1))"
   ]
  },
  {
   "cell_type": "code",
   "execution_count": 44,
   "metadata": {},
   "outputs": [
    {
     "name": "stdout",
     "output_type": "stream",
     "text": [
      "Giá trị trung bình:  [70. 71. 72. 73. 74. 75. 76. 77. 78. 79.]\n",
      "Giá trị trung vị:  [70. 71. 72. 73. 74. 75. 76. 77. 78. 79.]\n",
      "Giá trị yếu vị:  [0 1 2 3 4 5 6 7 8 9 1 1 1 1 1 1 1 1 1 1]\n",
      "Phương sai:  [1866.66666667 1866.66666667 1866.66666667 1866.66666667 1866.66666667\n",
      " 1866.66666667 1866.66666667 1866.66666667 1866.66666667 1866.66666667]\n",
      "Độ lệch chuẩn:  [43.20493799 43.20493799 43.20493799 43.20493799 43.20493799 43.20493799\n",
      " 43.20493799 43.20493799 43.20493799 43.20493799]\n"
     ]
    }
   ],
   "source": [
    "# Áp dụng vào từng cột\n",
    "print(\"Giá trị trung bình: \", gia_tri_trung_binh(a,0))\n",
    "print(\"Giá trị trung vị: \", gia_tri_trung_binh(a,0))\n",
    "print(\"Giá trị yếu vị: \", gia_tri_yeu_vi(a,0).flatten())\n",
    "print(\"Phương sai: \", phuong_sai(a,0))\n",
    "print(\"Độ lệch chuẩn: \", do_lech_chuan(a,0))"
   ]
  }
 ],
 "metadata": {
  "interpreter": {
   "hash": "ac550e0b864cfc34d7417f026bcfccdbbd634fd35df20ed814519ede7c4b8130"
  },
  "kernelspec": {
   "display_name": "Python 3.8.10 64-bit",
   "language": "python",
   "name": "python3"
  },
  "language_info": {
   "codemirror_mode": {
    "name": "ipython",
    "version": 3
   },
   "file_extension": ".py",
   "mimetype": "text/x-python",
   "name": "python",
   "nbconvert_exporter": "python",
   "pygments_lexer": "ipython3",
   "version": "3.8.10"
  },
  "orig_nbformat": 4
 },
 "nbformat": 4,
 "nbformat_minor": 2
}
