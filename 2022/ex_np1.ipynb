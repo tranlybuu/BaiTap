{
 "cells": [
  {
   "cell_type": "markdown",
   "metadata": {},
   "source": [
    "Đề: https://drive.google.com/file/d/1kayrhGpNiCAEeJQuDRtr1xF4re5xcvtT/view?usp=sharing"
   ]
  },
  {
   "cell_type": "code",
   "execution_count": 1,
   "metadata": {},
   "outputs": [],
   "source": [
    "import numpy as np"
   ]
  },
  {
   "cell_type": "markdown",
   "metadata": {},
   "source": [
    "Bài 1"
   ]
  },
  {
   "cell_type": "code",
   "execution_count": 2,
   "metadata": {},
   "outputs": [
    {
     "data": {
      "text/plain": [
       "array([ 5,  7, 14])"
      ]
     },
     "execution_count": 2,
     "metadata": {},
     "output_type": "execute_result"
    }
   ],
   "source": [
    "a = np.array([5,7,14])\n",
    "a"
   ]
  },
  {
   "cell_type": "markdown",
   "metadata": {},
   "source": [
    "Bài 2"
   ]
  },
  {
   "cell_type": "code",
   "execution_count": 5,
   "metadata": {},
   "outputs": [
    {
     "data": {
      "text/plain": [
       "array([ 1,  2,  3,  4,  5,  6,  7,  8,  9, 10, 11, 12, 13, 14, 15])"
      ]
     },
     "execution_count": 5,
     "metadata": {},
     "output_type": "execute_result"
    }
   ],
   "source": [
    "a = np.arange(1,16)\n",
    "a"
   ]
  },
  {
   "cell_type": "markdown",
   "metadata": {},
   "source": [
    "Bài 3"
   ]
  },
  {
   "cell_type": "code",
   "execution_count": 17,
   "metadata": {},
   "outputs": [
    {
     "name": "stdout",
     "output_type": "stream",
     "text": [
      "Vector OA =  [[6 5 5 8 8 1 8 1 8 5]]\n"
     ]
    }
   ],
   "source": [
    "#n = int(input(\"Nhập n: \"))\n",
    "n = 10\n",
    "a = np.random.randint(1,10,(1,n))\n",
    "print('Vector OA = ',a)"
   ]
  },
  {
   "cell_type": "markdown",
   "metadata": {},
   "source": [
    "Bài 4"
   ]
  },
  {
   "cell_type": "code",
   "execution_count": 32,
   "metadata": {},
   "outputs": [
    {
     "name": "stdout",
     "output_type": "stream",
     "text": [
      "Vector OA =  [[ 7]\n",
      " [-5]\n",
      " [ 8]]\n",
      "Độ dài vector OA =  11.74734012447073\n"
     ]
    }
   ],
   "source": [
    "a = np.array([[7], [-5], [8]])\n",
    "print('Vector OA = ',a)\n",
    "print(\"Độ dài vector OA = \",(np.sum(a**2))**0.5)"
   ]
  },
  {
   "cell_type": "markdown",
   "metadata": {},
   "source": [
    "Bài 5 + 6 +7"
   ]
  },
  {
   "cell_type": "code",
   "execution_count": 42,
   "metadata": {},
   "outputs": [
    {
     "name": "stdout",
     "output_type": "stream",
     "text": [
      "Tọa độ điểm A [[4 1 4]]\n",
      "Tọa độ điểm B [[3 8 8]]\n",
      "Vector AB = [[-1  7  4]]\n",
      "Độ dài vector AB =  8.12403840463596\n",
      "Tích vô hướng = [[52]]\n",
      "Tích hữu hướng = [[-24 -20  29]]\n"
     ]
    }
   ],
   "source": [
    "#n = int(input(\"Nhập n: \"))\n",
    "n = 3\n",
    "a = np.random.randint(1,10,(1,n))\n",
    "print(\"Tọa độ điểm A\",a)\n",
    "b = np.random.randint(1,10,(1,n))\n",
    "print(\"Tọa độ điểm B\",b)\n",
    "ab = b-a\n",
    "print(\"Vector AB =\",ab)\n",
    "print(\"Độ dài vector AB = \",(np.sum(ab**2))**0.5)\n",
    "print(\"Tích vô hướng =\",np.inner(a,b))\n",
    "print(\"Tích hữu hướng =\",np.cross(a,b))"
   ]
  },
  {
   "cell_type": "markdown",
   "metadata": {},
   "source": [
    "Bài 8"
   ]
  },
  {
   "cell_type": "code",
   "execution_count": 44,
   "metadata": {},
   "outputs": [
    {
     "name": "stdout",
     "output_type": "stream",
     "text": [
      "Vector A: [[9 7 3]]\n",
      "Vector A chuyển vị:\n",
      " [[9]\n",
      " [7]\n",
      " [3]]\n"
     ]
    }
   ],
   "source": [
    "#n = int(input(\"Nhập n: \"))\n",
    "n = 3\n",
    "a = np.random.randint(1,10,(1,n))\n",
    "print(\"Vector A:\",a)\n",
    "aT = np.transpose(a)\n",
    "print(\"Vector A chuyển vị:\\n\",aT)\n"
   ]
  },
  {
   "cell_type": "markdown",
   "metadata": {},
   "source": [
    "Bài 9"
   ]
  },
  {
   "cell_type": "code",
   "execution_count": 58,
   "metadata": {},
   "outputs": [
    {
     "name": "stdout",
     "output_type": "stream",
     "text": [
      "-- Ban đầu --\n",
      "a:\n",
      "[1, 2, 3, 4, 5]\n",
      "b:\n",
      "[[1]\n",
      " [2]\n",
      " [3]\n",
      " [4]\n",
      " [5]]\n",
      "-- Chuyển thành vector --\n",
      "a:\n",
      "[[1 2 3 4 5]]\n",
      "b:\n",
      "[[1]\n",
      " [2]\n",
      " [3]\n",
      " [4]\n",
      " [5]]\n",
      "-- Chuyển vị vector --\n",
      "a:\n",
      "[[1]\n",
      " [2]\n",
      " [3]\n",
      " [4]\n",
      " [5]]\n",
      "b:\n",
      "[[1 2 3 4 5]]\n"
     ]
    }
   ],
   "source": [
    "a = [1, 2, 3, 4, 5]\n",
    "b = np.array([[1], [2], [3], [4], [5]])\n",
    "print(f'-- Ban đầu --\\na:\\n{a}\\nb:\\n{b}')\n",
    "# Chuyển a và b thành vector\n",
    "a = np.array(a).reshape(1,5)\n",
    "b = b.reshape(5,1)\n",
    "print(f'-- Chuyển thành vector --\\na:\\n{a}\\nb:\\n{b}')\n",
    "# Chuyển vị vector a và b\n",
    "aT = np.transpose(a)\n",
    "bT = np.transpose(b)\n",
    "print(f'-- Chuyển vị vector --\\na:\\n{aT}\\nb:\\n{bT}')"
   ]
  },
  {
   "cell_type": "markdown",
   "metadata": {},
   "source": [
    "Bài 10"
   ]
  },
  {
   "cell_type": "code",
   "execution_count": 61,
   "metadata": {},
   "outputs": [
    {
     "name": "stdout",
     "output_type": "stream",
     "text": [
      "Vector A: [[5 3 7]]\n",
      "Vector B: [[3 8 2]]\n",
      "Phép nhân: m.a = [[25 15 35]]\n",
      "Phép cộng: a+b = [[ 8 11  9]]\n"
     ]
    }
   ],
   "source": [
    "#n = int(input(\"Nhập n: \"))\n",
    "n = 3\n",
    "a = np.random.randint(1,10,(1,n))\n",
    "print(\"Vector A:\",a)\n",
    "b = np.random.randint(1,10,(1,n))\n",
    "print(\"Vector B:\",b)\n",
    "\n",
    "m=5\n",
    "print(\"Phép nhân: m.a =\",m*a)\n",
    "print(\"Phép cộng: a+b =\",a+b)"
   ]
  }
 ],
 "metadata": {
  "interpreter": {
   "hash": "ac550e0b864cfc34d7417f026bcfccdbbd634fd35df20ed814519ede7c4b8130"
  },
  "kernelspec": {
   "display_name": "Python 3.8.10 64-bit",
   "language": "python",
   "name": "python3"
  },
  "language_info": {
   "codemirror_mode": {
    "name": "ipython",
    "version": 3
   },
   "file_extension": ".py",
   "mimetype": "text/x-python",
   "name": "python",
   "nbconvert_exporter": "python",
   "pygments_lexer": "ipython3",
   "version": "3.8.10"
  },
  "orig_nbformat": 4
 },
 "nbformat": 4,
 "nbformat_minor": 2
}
