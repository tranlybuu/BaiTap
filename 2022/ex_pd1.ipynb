{
 "cells": [
  {
   "cell_type": "code",
   "execution_count": 5,
   "metadata": {},
   "outputs": [],
   "source": [
    "import pandas as pd\n",
    "import numpy as np"
   ]
  },
  {
   "cell_type": "markdown",
   "metadata": {},
   "source": [
    "Bài 1"
   ]
  },
  {
   "cell_type": "code",
   "execution_count": 6,
   "metadata": {},
   "outputs": [
    {
     "name": "stderr",
     "output_type": "stream",
     "text": [
      "C:\\Users\\b00\\AppData\\Local\\Temp\\ipykernel_1888\\2031691219.py:1: FutureWarning: The default dtype for empty Series will be 'object' instead of 'float64' in a future version. Specify a dtype explicitly to silence this warning.\n",
      "  pd.Series()\n"
     ]
    },
    {
     "data": {
      "text/plain": [
       "Series([], dtype: float64)"
      ]
     },
     "execution_count": 6,
     "metadata": {},
     "output_type": "execute_result"
    }
   ],
   "source": [
    "pd.Series()"
   ]
  },
  {
   "cell_type": "markdown",
   "metadata": {},
   "source": [
    "Bài 2"
   ]
  },
  {
   "cell_type": "code",
   "execution_count": 17,
   "metadata": {},
   "outputs": [
    {
     "data": {
      "text/plain": [
       "0    70\n",
       "1     8\n",
       "2    97\n",
       "3    93\n",
       "4    75\n",
       "5    62\n",
       "6    18\n",
       "dtype: int32"
      ]
     },
     "execution_count": 17,
     "metadata": {},
     "output_type": "execute_result"
    }
   ],
   "source": [
    "pd.Series(np.random.randint(100,size=7))"
   ]
  },
  {
   "cell_type": "markdown",
   "metadata": {},
   "source": [
    "Bài 3"
   ]
  },
  {
   "cell_type": "code",
   "execution_count": 11,
   "metadata": {},
   "outputs": [
    {
     "data": {
      "text/plain": [
       "0    123\n",
       "1    456\n",
       "2    789\n",
       "3    654\n",
       "4    234\n",
       "5    765\n",
       "6    456\n",
       "dtype: int64"
      ]
     },
     "execution_count": 11,
     "metadata": {},
     "output_type": "execute_result"
    }
   ],
   "source": [
    "n = [int(input(f\"Nhập {i+1} = \")) for i in range(7)]\n",
    "pd.Series(n)"
   ]
  },
  {
   "cell_type": "markdown",
   "metadata": {},
   "source": [
    "Bài 4"
   ]
  },
  {
   "cell_type": "code",
   "execution_count": 25,
   "metadata": {},
   "outputs": [
    {
     "data": {
      "text/plain": [
       "0    79\n",
       "1    13\n",
       "2    40\n",
       "3    72\n",
       "4    59\n",
       "5    17\n",
       "6    73\n",
       "dtype: int32"
      ]
     },
     "execution_count": 25,
     "metadata": {},
     "output_type": "execute_result"
    }
   ],
   "source": [
    "pd.Series(np.random.randint(100,size=(7,1)).reshape(-1))"
   ]
  },
  {
   "cell_type": "markdown",
   "metadata": {},
   "source": [
    "Bài 5"
   ]
  },
  {
   "cell_type": "code",
   "execution_count": 14,
   "metadata": {},
   "outputs": [
    {
     "name": "stdout",
     "output_type": "stream",
     "text": [
      "List ban đầu: ['abc', 'xyz', 'qwer', 'wasd', 'eq flash']\n"
     ]
    },
    {
     "data": {
      "text/plain": [
       "0         abc\n",
       "1         xyz\n",
       "2        qwer\n",
       "3        wasd\n",
       "4    eq flash\n",
       "dtype: object"
      ]
     },
     "execution_count": 14,
     "metadata": {},
     "output_type": "execute_result"
    }
   ],
   "source": [
    "n = 5\n",
    "arr = [input(f\"Nhập {i+1}: \") for i in range(n)]\n",
    "print(\"List ban đầu:\",arr)\n",
    "pd.Series(arr)"
   ]
  },
  {
   "cell_type": "code",
   "execution_count": 15,
   "metadata": {},
   "outputs": [
    {
     "data": {
      "text/plain": [
       "0     apple\n",
       "1    banana\n",
       "2     guava\n",
       "dtype: object"
      ]
     },
     "execution_count": 15,
     "metadata": {},
     "output_type": "execute_result"
    }
   ],
   "source": [
    "fruits = (\"apple\", \"banana\", \"guava\")\n",
    "pd.Series(fruits)"
   ]
  },
  {
   "cell_type": "code",
   "execution_count": 16,
   "metadata": {},
   "outputs": [
    {
     "data": {
      "text/plain": [
       "brand          Honda\n",
       "model    Honda Civic\n",
       "year            1972\n",
       "dtype: object"
      ]
     },
     "execution_count": 16,
     "metadata": {},
     "output_type": "execute_result"
    }
   ],
   "source": [
    "dictCar = {\n",
    "    \"brand\": \"Honda\",\n",
    "    \"model\": \"Honda Civic\",\n",
    "    \"year\": 1972\n",
    "}\n",
    "pd.Series (dictCar)"
   ]
  },
  {
   "cell_type": "markdown",
   "metadata": {},
   "source": [
    "Bài 6"
   ]
  },
  {
   "cell_type": "code",
   "execution_count": 59,
   "metadata": {},
   "outputs": [
    {
     "name": "stdout",
     "output_type": "stream",
     "text": [
      "0     43\n",
      "1     19\n",
      "2     87\n",
      "3     49\n",
      "4     37\n",
      "5     50\n",
      "6     59\n",
      "7     50\n",
      "8     55\n",
      "9     74\n",
      "10    26\n",
      "11    89\n",
      "12    25\n",
      "13    59\n",
      "14    53\n",
      "15    26\n",
      "16    64\n",
      "17    57\n",
      "18    69\n",
      "19    20\n",
      "dtype: int32\n"
     ]
    }
   ],
   "source": [
    "arr = pd.Series(np.random.randint(100,size=20))\n",
    "print(arr)"
   ]
  },
  {
   "cell_type": "code",
   "execution_count": 60,
   "metadata": {},
   "outputs": [
    {
     "name": "stdout",
     "output_type": "stream",
     "text": [
      "num1     43\n",
      "num2     19\n",
      "num3     87\n",
      "num4     49\n",
      "num5     37\n",
      "num6     50\n",
      "num7     59\n",
      "num8     50\n",
      "num9     55\n",
      "num10    74\n",
      "num11    26\n",
      "num12    89\n",
      "num13    25\n",
      "num14    59\n",
      "num15    53\n",
      "num16    26\n",
      "num17    64\n",
      "num18    57\n",
      "num19    69\n",
      "num20    20\n",
      "dtype: int32\n"
     ]
    }
   ],
   "source": [
    "index = [f'num{i+1}' for i in range(20)]\n",
    "arr.index = index\n",
    "print(arr)"
   ]
  },
  {
   "cell_type": "markdown",
   "metadata": {},
   "source": [
    "Bài 7"
   ]
  },
  {
   "cell_type": "code",
   "execution_count": 58,
   "metadata": {},
   "outputs": [
    {
     "name": "stdout",
     "output_type": "stream",
     "text": [
      "a    17\n",
      "b    21\n",
      "c    57\n",
      "d    90\n",
      "e    29\n",
      "f    70\n",
      "g    15\n",
      "h    66\n",
      "i    62\n",
      "j    17\n",
      "dtype: int32\n"
     ]
    }
   ],
   "source": [
    "arr = pd.Series(np.random.randint(100,size=10))\n",
    "index = ['a','b','c','d','e','f','g','h','i','j']\n",
    "arr.index = index\n",
    "print(arr)"
   ]
  },
  {
   "cell_type": "code",
   "execution_count": 47,
   "metadata": {},
   "outputs": [
    {
     "data": {
      "text/plain": [
       "a    61\n",
       "c    43\n",
       "e    93\n",
       "dtype: int32"
      ]
     },
     "execution_count": 47,
     "metadata": {},
     "output_type": "execute_result"
    }
   ],
   "source": [
    "arr.loc[['a','c','e']]"
   ]
  },
  {
   "cell_type": "code",
   "execution_count": 55,
   "metadata": {},
   "outputs": [
    {
     "data": {
      "text/plain": [
       "c    43\n",
       "d    24\n",
       "e    93\n",
       "f     6\n",
       "dtype: int32"
      ]
     },
     "execution_count": 55,
     "metadata": {},
     "output_type": "execute_result"
    }
   ],
   "source": [
    "arr.iloc[2:6]"
   ]
  }
 ],
 "metadata": {
  "interpreter": {
   "hash": "ac550e0b864cfc34d7417f026bcfccdbbd634fd35df20ed814519ede7c4b8130"
  },
  "kernelspec": {
   "display_name": "Python 3.8.10 64-bit",
   "language": "python",
   "name": "python3"
  },
  "language_info": {
   "codemirror_mode": {
    "name": "ipython",
    "version": 3
   },
   "file_extension": ".py",
   "mimetype": "text/x-python",
   "name": "python",
   "nbconvert_exporter": "python",
   "pygments_lexer": "ipython3",
   "version": "3.8.10"
  },
  "orig_nbformat": 4
 },
 "nbformat": 4,
 "nbformat_minor": 2
}
