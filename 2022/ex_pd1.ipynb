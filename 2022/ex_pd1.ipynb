{
 "cells": [
  {
   "cell_type": "code",
   "execution_count": 3,
   "metadata": {},
   "outputs": [],
   "source": [
    "import pandas as pd\n",
    "import numpy as np"
   ]
  },
  {
   "cell_type": "markdown",
   "metadata": {},
   "source": [
    "Bài 1: Khởi tạo 1 Series với giá trị rỗng"
   ]
  },
  {
   "cell_type": "code",
   "execution_count": 4,
   "metadata": {},
   "outputs": [
    {
     "name": "stderr",
     "output_type": "stream",
     "text": [
      "C:\\Users\\b00\\AppData\\Local\\Temp\\ipykernel_10036\\2031691219.py:1: FutureWarning: The default dtype for empty Series will be 'object' instead of 'float64' in a future version. Specify a dtype explicitly to silence this warning.\n",
      "  pd.Series()\n"
     ]
    },
    {
     "data": {
      "text/plain": [
       "Series([], dtype: float64)"
      ]
     },
     "execution_count": 4,
     "metadata": {},
     "output_type": "execute_result"
    }
   ],
   "source": [
    "pd.Series()"
   ]
  },
  {
   "cell_type": "markdown",
   "metadata": {},
   "source": [
    "Bài 2: Giả sử có 1 vector hàng a có kích thước (1x7) được biểu diễn trong NumPy, hãy tạo 1\n",
    "series tương ứng với các giá trị được sinh ngẫu nhiên."
   ]
  },
  {
   "cell_type": "code",
   "execution_count": 5,
   "metadata": {},
   "outputs": [
    {
     "data": {
      "text/plain": [
       "0    28\n",
       "1    37\n",
       "2    94\n",
       "3    18\n",
       "4    75\n",
       "5    77\n",
       "6    12\n",
       "dtype: int32"
      ]
     },
     "execution_count": 5,
     "metadata": {},
     "output_type": "execute_result"
    }
   ],
   "source": [
    "pd.Series(np.random.randint(100,size=7))"
   ]
  },
  {
   "cell_type": "markdown",
   "metadata": {},
   "source": [
    "Bài 3: Giả sử có 1 vector hàng a có kích thước (1x7), hãy nhập các giá trị cho 7 phần tử này từ\n",
    "bàn phím và tạo series tương ứng."
   ]
  },
  {
   "cell_type": "code",
   "execution_count": 6,
   "metadata": {},
   "outputs": [
    {
     "data": {
      "text/plain": [
       "0     24\n",
       "1     53\n",
       "2     46\n",
       "3     52\n",
       "4     43\n",
       "5    654\n",
       "6    568\n",
       "dtype: int64"
      ]
     },
     "execution_count": 6,
     "metadata": {},
     "output_type": "execute_result"
    }
   ],
   "source": [
    "n = [int(input(f\"Nhập {i+1} = \")) for i in range(7)]\n",
    "pd.Series(n)"
   ]
  },
  {
   "cell_type": "markdown",
   "metadata": {},
   "source": [
    "Bài 4: Giả sử có 1 vector cột có kích thước (7x1) được biểu diễn trong NumPy, hãy tạo Series\n",
    "tương ứng."
   ]
  },
  {
   "cell_type": "code",
   "execution_count": 7,
   "metadata": {},
   "outputs": [
    {
     "data": {
      "text/plain": [
       "0     9\n",
       "1    57\n",
       "2    96\n",
       "3     4\n",
       "4    11\n",
       "5    33\n",
       "6     5\n",
       "dtype: int32"
      ]
     },
     "execution_count": 7,
     "metadata": {},
     "output_type": "execute_result"
    }
   ],
   "source": [
    "pd.Series(np.random.randint(100,size=(7,1)).reshape(-1))"
   ]
  },
  {
   "cell_type": "markdown",
   "metadata": {},
   "source": [
    "Bài 5: Chuyển đổi dữ liệu, hãy thực hiện các yêu cầu sau:\n",
    "- Chuyển 1 list thành 1 series\n",
    "- Chuyển 1 tuple thành 1 series\n",
    "- Chuyển 1 dictionary thành 1 series"
   ]
  },
  {
   "cell_type": "code",
   "execution_count": 8,
   "metadata": {},
   "outputs": [
    {
     "name": "stdout",
     "output_type": "stream",
     "text": [
      "List ban đầu: ['45', '6346', '543', '234', '346']\n"
     ]
    },
    {
     "data": {
      "text/plain": [
       "0      45\n",
       "1    6346\n",
       "2     543\n",
       "3     234\n",
       "4     346\n",
       "dtype: object"
      ]
     },
     "execution_count": 8,
     "metadata": {},
     "output_type": "execute_result"
    }
   ],
   "source": [
    "n = 5\n",
    "arr = [input(f\"Nhập {i+1}: \") for i in range(n)]\n",
    "print(\"List ban đầu:\",arr)\n",
    "pd.Series(arr)"
   ]
  },
  {
   "cell_type": "code",
   "execution_count": 9,
   "metadata": {},
   "outputs": [
    {
     "data": {
      "text/plain": [
       "0     apple\n",
       "1    banana\n",
       "2     guava\n",
       "dtype: object"
      ]
     },
     "execution_count": 9,
     "metadata": {},
     "output_type": "execute_result"
    }
   ],
   "source": [
    "fruits = (\"apple\", \"banana\", \"guava\")\n",
    "pd.Series(fruits)"
   ]
  },
  {
   "cell_type": "code",
   "execution_count": 10,
   "metadata": {},
   "outputs": [
    {
     "data": {
      "text/plain": [
       "brand          Honda\n",
       "model    Honda Civic\n",
       "year            1972\n",
       "dtype: object"
      ]
     },
     "execution_count": 10,
     "metadata": {},
     "output_type": "execute_result"
    }
   ],
   "source": [
    "dictCar = {\n",
    "    \"brand\": \"Honda\",\n",
    "    \"model\": \"Honda Civic\",\n",
    "    \"year\": 1972\n",
    "}\n",
    "pd.Series (dictCar)"
   ]
  },
  {
   "cell_type": "markdown",
   "metadata": {},
   "source": [
    "Bài 6: Mỗi phần tử của series đều gắn liền với các chỉ số (index) tương ứng, hãy tạo một series\n",
    "có kích thước (1x20) với giá trị ngẫu nhiên:\n",
    "- Xuất series ra màn hình\n",
    "- Xuất các chỉ số của series ra màn hình\n",
    "- Thay đổi cách đánh chỉ số mặc định của series từ đánh chỉ số bằng số nguyên sang các kiểu\n",
    "đánh chỉ số bằng label và in kết quả ra màn hình"
   ]
  },
  {
   "cell_type": "code",
   "execution_count": 18,
   "metadata": {},
   "outputs": [
    {
     "name": "stdout",
     "output_type": "stream",
     "text": [
      "0      7\n",
      "1     41\n",
      "2     89\n",
      "3     12\n",
      "4     51\n",
      "5     81\n",
      "6     58\n",
      "7     53\n",
      "8     28\n",
      "9     23\n",
      "10    93\n",
      "11    19\n",
      "12    78\n",
      "13    29\n",
      "14    17\n",
      "15    93\n",
      "16    20\n",
      "17    98\n",
      "18    17\n",
      "19    20\n",
      "dtype: int32\n"
     ]
    }
   ],
   "source": [
    "arr = pd.Series(np.random.randint(100,size=20))\n",
    "print(arr)"
   ]
  },
  {
   "cell_type": "code",
   "execution_count": 17,
   "metadata": {},
   "outputs": [
    {
     "name": "stdout",
     "output_type": "stream",
     "text": [
      "Các chỉ số: ['num1', 'num2', 'num3', 'num4', 'num5', 'num6', 'num7', 'num8', 'num9', 'num10', 'num11', 'num12', 'num13', 'num14', 'num15', 'num16', 'num17', 'num18', 'num19', 'num20']\n"
     ]
    }
   ],
   "source": [
    "index = [f'num{i+1}' for i in range(20)]\n",
    "print(\"Các chỉ số:\",index)"
   ]
  },
  {
   "cell_type": "code",
   "execution_count": 13,
   "metadata": {},
   "outputs": [
    {
     "name": "stdout",
     "output_type": "stream",
     "text": [
      "num1     14\n",
      "num2     24\n",
      "num3     38\n",
      "num4     73\n",
      "num5     99\n",
      "num6      2\n",
      "num7     83\n",
      "num8     54\n",
      "num9     97\n",
      "num10    99\n",
      "num11    65\n",
      "num12    60\n",
      "num13    87\n",
      "num14    44\n",
      "num15    58\n",
      "num16    61\n",
      "num17    29\n",
      "num18    97\n",
      "num19    85\n",
      "num20    65\n",
      "dtype: int32\n"
     ]
    }
   ],
   "source": [
    "arr.index = index\n",
    "print(arr)"
   ]
  },
  {
   "cell_type": "markdown",
   "metadata": {},
   "source": [
    "Bài 7: Giả sử có series có kích thước (1x10), giá trị ngẫu nhiên, index được đánh từ ‘a’ trở đi,\n",
    "hãy:\n",
    "- Trích xuất các phần tử của Series có chỉ số là ‘a’, ‘c’, ‘e’\n",
    "- Trích xuất các phần tử của Series có chỉ số từ 3 đến 6"
   ]
  },
  {
   "cell_type": "code",
   "execution_count": 14,
   "metadata": {},
   "outputs": [
    {
     "name": "stdout",
     "output_type": "stream",
     "text": [
      "a    13\n",
      "b    61\n",
      "c     7\n",
      "d    32\n",
      "e    95\n",
      "f     4\n",
      "g     9\n",
      "h    46\n",
      "i    99\n",
      "j    92\n",
      "dtype: int32\n"
     ]
    }
   ],
   "source": [
    "arr = pd.Series(np.random.randint(100,size=10))\n",
    "index = ['a','b','c','d','e','f','g','h','i','j']\n",
    "arr.index = index\n",
    "print(arr)"
   ]
  },
  {
   "cell_type": "code",
   "execution_count": 15,
   "metadata": {},
   "outputs": [
    {
     "data": {
      "text/plain": [
       "a    13\n",
       "c     7\n",
       "e    95\n",
       "dtype: int32"
      ]
     },
     "execution_count": 15,
     "metadata": {},
     "output_type": "execute_result"
    }
   ],
   "source": [
    "arr.loc[['a','c','e']]"
   ]
  },
  {
   "cell_type": "code",
   "execution_count": 19,
   "metadata": {},
   "outputs": [
    {
     "data": {
      "text/plain": [
       "2    89\n",
       "3    12\n",
       "4    51\n",
       "5    81\n",
       "dtype: int32"
      ]
     },
     "execution_count": 19,
     "metadata": {},
     "output_type": "execute_result"
    }
   ],
   "source": [
    "arr.iloc[2:6]"
   ]
  }
 ],
 "metadata": {
  "interpreter": {
   "hash": "ac550e0b864cfc34d7417f026bcfccdbbd634fd35df20ed814519ede7c4b8130"
  },
  "kernelspec": {
   "display_name": "Python 3.8.10 64-bit",
   "language": "python",
   "name": "python3"
  },
  "language_info": {
   "codemirror_mode": {
    "name": "ipython",
    "version": 3
   },
   "file_extension": ".py",
   "mimetype": "text/x-python",
   "name": "python",
   "nbconvert_exporter": "python",
   "pygments_lexer": "ipython3",
   "version": "3.8.10"
  },
  "orig_nbformat": 4
 },
 "nbformat": 4,
 "nbformat_minor": 2
}
