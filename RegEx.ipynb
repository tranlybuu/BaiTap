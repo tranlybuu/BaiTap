{
  "nbformat": 4,
  "nbformat_minor": 0,
  "metadata": {
    "colab": {
      "name": "RegEx.ipynb",
      "provenance": [],
      "collapsed_sections": [],
      "authorship_tag": "ABX9TyOGkhrtRWJ7jgXut1ZuJoQD",
      "include_colab_link": true
    },
    "kernelspec": {
      "name": "python3",
      "display_name": "Python 3"
    }
  },
  "cells": [
    {
      "cell_type": "markdown",
      "metadata": {
        "id": "view-in-github",
        "colab_type": "text"
      },
      "source": [
        "<a href=\"https://colab.research.google.com/github/tranlybuu/bai1/blob/main/RegEx.ipynb\" target=\"_parent\"><img src=\"https://colab.research.google.com/assets/colab-badge.svg\" alt=\"Open In Colab\"/></a>"
      ]
    },
    {
      "cell_type": "code",
      "metadata": {
        "colab": {
          "base_uri": "https://localhost:8080/"
        },
        "id": "exGEKxw21XIo",
        "outputId": "c5a4035d-e240-4443-f043-bddb5d48bf31"
      },
      "source": [
        "import re\r\n",
        "\r\n",
        "arr = [\"/tin-tuc-24h\",\"/thoi-su\",\"https://xinchao.com\",\"/the-gioi\",\"http://hello.com\"]\r\n",
        "\r\n",
        "for item in arr:\r\n",
        "  check = re.search(\"^http\",item)\r\n",
        "  print(\"Link:\",item)\r\n",
        "  try:\r\n",
        "    if item == check.string:\r\n",
        "      print(\"Hợp lệ\\n\")\r\n",
        "  except:\r\n",
        "      print(\"Không hợp lệ\\n\")"
      ],
      "execution_count": 13,
      "outputs": [
        {
          "output_type": "stream",
          "text": [
            "Link: /tin-tuc-24h\n",
            "Không hợp lệ\n",
            "\n",
            "Link: /thoi-su\n",
            "Không hợp lệ\n",
            "\n",
            "Link: https://xinchao.com\n",
            "Hợp lệ\n",
            "\n",
            "Link: /the-gioi\n",
            "Không hợp lệ\n",
            "\n",
            "Link: http://hello.com\n",
            "Hợp lệ\n",
            "\n"
          ],
          "name": "stdout"
        }
      ]
    }
  ]
}