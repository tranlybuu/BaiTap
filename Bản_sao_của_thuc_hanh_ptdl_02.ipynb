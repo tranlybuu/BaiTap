{
  "nbformat": 4,
  "nbformat_minor": 0,
  "metadata": {
    "kernelspec": {
      "display_name": "Python 3",
      "language": "python",
      "name": "python3"
    },
    "language_info": {
      "codemirror_mode": {
        "name": "ipython",
        "version": 3
      },
      "file_extension": ".py",
      "mimetype": "text/x-python",
      "name": "python",
      "nbconvert_exporter": "python",
      "pygments_lexer": "ipython3",
      "version": "3.7.3"
    },
    "colab": {
      "name": "Bản sao của thuc-hanh-ptdl-02.ipynb",
      "provenance": [],
      "collapsed_sections": [],
      "include_colab_link": true
    }
  },
  "cells": [
    {
      "cell_type": "markdown",
      "metadata": {
        "id": "view-in-github",
        "colab_type": "text"
      },
      "source": [
        "<a href=\"https://colab.research.google.com/github/tranlybuu/bai1/blob/main/B%E1%BA%A3n_sao_c%E1%BB%A7a_thuc_hanh_ptdl_02.ipynb\" target=\"_parent\"><img src=\"https://colab.research.google.com/assets/colab-badge.svg\" alt=\"Open In Colab\"/></a>"
      ]
    },
    {
      "cell_type": "markdown",
      "metadata": {
        "id": "C4phzgiYYEhV"
      },
      "source": [
        "THỰC HÀNH VẼ BIỂU ĐỒ CHO DỮ LIỆU ĐỊNH LƯỢNG"
      ]
    },
    {
      "cell_type": "code",
      "metadata": {
        "id": "wmJgCZuMYEhX"
      },
      "source": [
        "#Nhập các thư viện cần thiết\n",
        "%matplotlib inline\n",
        "import pandas as pd\n",
        "import seaborn as sns\n",
        "import numpy as np\n",
        "import matplotlib as mpl\n",
        "import matplotlib.pyplot as plt"
      ],
      "execution_count": 4,
      "outputs": []
    },
    {
      "cell_type": "code",
      "metadata": {
        "id": "YyOn8_XoYEhY"
      },
      "source": [
        "#Đọc dữ liệu\n",
        "mb_df = pd.read_csv(\"data/microbiome.csv\")\n",
        "mb_df.head()"
      ],
      "execution_count": null,
      "outputs": []
    },
    {
      "cell_type": "markdown",
      "metadata": {
        "id": "Yg4EN-BIYEhY"
      },
      "source": [
        "Vẽ Box plot"
      ]
    },
    {
      "cell_type": "code",
      "metadata": {
        "id": "HTgxKntwYEhZ",
        "outputId": "c99021fb-b5c0-44f0-9109-f22fcd7e9a5a"
      },
      "source": [
        "mb_df['Tissue'].plot(kind='box')"
      ],
      "execution_count": null,
      "outputs": [
        {
          "output_type": "execute_result",
          "data": {
            "text/plain": [
              "<matplotlib.axes._subplots.AxesSubplot at 0x23f8e3c4be0>"
            ]
          },
          "metadata": {
            "tags": []
          },
          "execution_count": 3
        },
        {
          "output_type": "display_data",
          "data": {
            "image/png": "[encoded data removed]",
            "text/plain": [
              "<Figure size 432x288 with 1 Axes>"
            ]
          },
          "metadata": {
            "tags": [],
            "needs_background": "light"
          }
        }
      ]
    },
    {
      "cell_type": "markdown",
      "metadata": {
        "id": "Eahvt4vjYEhZ"
      },
      "source": [
        "Bài tập: Hãy cải tiến biểu đồ box plot trên để đẹp hơn"
      ]
    },
    {
      "cell_type": "code",
      "metadata": {
        "id": "nM1dncD5YEhZ"
      },
      "source": [
        "sns.boxplot(data=mb_df['Tissue'], width=0.15,fliersize=5, linewidth=1)"
      ],
      "execution_count": null,
      "outputs": []
    },
    {
      "cell_type": "markdown",
      "metadata": {
        "id": "nYUhuyfuYEha"
      },
      "source": [
        "VẼ SCATTER PLOT VỚI 2 TRỤC LÀ TISSUE - STOOL"
      ]
    },
    {
      "cell_type": "code",
      "metadata": {
        "id": "2vYgViprYEha",
        "outputId": "51204be1-db97-417f-e8ad-1212787940ee"
      },
      "source": [
        "mb_df_2 = mb_df[['Tissue', 'Stool']]\n",
        "mb_df_2.head()"
      ],
      "execution_count": null,
      "outputs": [
        {
          "output_type": "execute_result",
          "data": {
            "text/html": [
              "<div>\n",
              "<style scoped>\n",
              "    .dataframe tbody tr th:only-of-type {\n",
              "        vertical-align: middle;\n",
              "    }\n",
              "\n",
              "    .dataframe tbody tr th {\n",
              "        vertical-align: top;\n",
              "    }\n",
              "\n",
              "    .dataframe thead th {\n",
              "        text-align: right;\n",
              "    }\n",
              "</style>\n",
              "<table border=\"1\" class=\"dataframe\">\n",
              "  <thead>\n",
              "    <tr style=\"text-align: right;\">\n",
              "      <th></th>\n",
              "      <th>Tissue</th>\n",
              "      <th>Stool</th>\n",
              "    </tr>\n",
              "  </thead>\n",
              "  <tbody>\n",
              "    <tr>\n",
              "      <th>0</th>\n",
              "      <td>632</td>\n",
              "      <td>305</td>\n",
              "    </tr>\n",
              "    <tr>\n",
              "      <th>1</th>\n",
              "      <td>136</td>\n",
              "      <td>4182</td>\n",
              "    </tr>\n",
              "    <tr>\n",
              "      <th>2</th>\n",
              "      <td>1174</td>\n",
              "      <td>703</td>\n",
              "    </tr>\n",
              "    <tr>\n",
              "      <th>3</th>\n",
              "      <td>408</td>\n",
              "      <td>3946</td>\n",
              "    </tr>\n",
              "    <tr>\n",
              "      <th>4</th>\n",
              "      <td>831</td>\n",
              "      <td>8605</td>\n",
              "    </tr>\n",
              "  </tbody>\n",
              "</table>\n",
              "</div>"
            ],
            "text/plain": [
              "   Tissue  Stool\n",
              "0     632    305\n",
              "1     136   4182\n",
              "2    1174    703\n",
              "3     408   3946\n",
              "4     831   8605"
            ]
          },
          "metadata": {
            "tags": []
          },
          "execution_count": 5
        }
      ]
    },
    {
      "cell_type": "code",
      "metadata": {
        "id": "1wGRwg7aYEha",
        "outputId": "1ebc37d0-1d81-4539-f096-cf36b541a59c"
      },
      "source": [
        "mb_df_2.plot.scatter(x = 'Tissue', y = 'Stool')"
      ],
      "execution_count": null,
      "outputs": [
        {
          "output_type": "execute_result",
          "data": {
            "text/plain": [
              "<matplotlib.axes._subplots.AxesSubplot at 0x23f8e188a20>"
            ]
          },
          "metadata": {
            "tags": []
          },
          "execution_count": 6
        },
        {
          "output_type": "display_data",
          "data": {
            "image/png": "[encoded data removed]",
            "text/plain": [
              "<Figure size 432x288 with 1 Axes>"
            ]
          },
          "metadata": {
            "tags": [],
            "needs_background": "light"
          }
        }
      ]
    },
    {
      "cell_type": "markdown",
      "metadata": {
        "id": "0wFFrY99YEhb"
      },
      "source": [
        "Bài tập: Hãy chỉnh sửa để biểu đồ đẹp hơn"
      ]
    },
    {
      "cell_type": "code",
      "metadata": {
        "id": "IgCSSKeaYEhb"
      },
      "source": [
        "sns.scatterplot(x='Tissue', y='Stool', data=mb_df_2)"
      ],
      "execution_count": null,
      "outputs": []
    },
    {
      "cell_type": "markdown",
      "metadata": {
        "id": "F9TRfmJPYEhc"
      },
      "source": [
        "VẼ HISTOGRAM"
      ]
    },
    {
      "cell_type": "code",
      "metadata": {
        "id": "A9m1psmWYEhc",
        "outputId": "adc9cd9f-c3f8-4843-8159-e25271e0f29e"
      },
      "source": [
        "mb_df['Stool'].plot(kind='hist')"
      ],
      "execution_count": null,
      "outputs": [
        {
          "output_type": "execute_result",
          "data": {
            "text/plain": [
              "<matplotlib.axes._subplots.AxesSubplot at 0x23f8e097358>"
            ]
          },
          "metadata": {
            "tags": []
          },
          "execution_count": 7
        },
        {
          "output_type": "display_data",
          "data": {
            "image/png": "[encoded data removed]",
            "text/plain": [
              "<Figure size 432x288 with 1 Axes>"
            ]
          },
          "metadata": {
            "tags": [],
            "needs_background": "light"
          }
        }
      ]
    },
    {
      "cell_type": "code",
      "metadata": {
        "id": "oPIprfn4YEhc",
        "outputId": "605620f1-e40e-49cf-e3bd-8252dc5496c6"
      },
      "source": [
        "mb_df['Stool'].plot(kind='hist', cumulative= True)"
      ],
      "execution_count": null,
      "outputs": [
        {
          "output_type": "execute_result",
          "data": {
            "text/plain": [
              "<matplotlib.axes._subplots.AxesSubplot at 0x23f8e20f7f0>"
            ]
          },
          "metadata": {
            "tags": []
          },
          "execution_count": 8
        },
        {
          "output_type": "display_data",
          "data": {
            "image/png": "[encoded data removed]",
            "text/plain": [
              "<Figure size 432x288 with 1 Axes>"
            ]
          },
          "metadata": {
            "tags": [],
            "needs_background": "light"
          }
        }
      ]
    },
    {
      "cell_type": "code",
      "metadata": {
        "id": "T1meO_D7YEhd",
        "outputId": "bc6cc2fe-915c-475d-c26c-527830735086"
      },
      "source": [
        "mb_df['Stool'].plot(kind='hist', cumulative= True, bins = 50)"
      ],
      "execution_count": null,
      "outputs": [
        {
          "output_type": "execute_result",
          "data": {
            "text/plain": [
              "<matplotlib.axes._subplots.AxesSubplot at 0x23f8e083b00>"
            ]
          },
          "metadata": {
            "tags": []
          },
          "execution_count": 9
        },
        {
          "output_type": "display_data",
          "data": {
            "image/png": "[encoded data removed]",
            "text/plain": [
              "<Figure size 432x288 with 1 Axes>"
            ]
          },
          "metadata": {
            "tags": [],
            "needs_background": "light"
          }
        }
      ]
    },
    {
      "cell_type": "markdown",
      "metadata": {
        "id": "6uKSlY94YEhd"
      },
      "source": [
        "Bài tập: Hãy làm đẹp biểu đồ trên"
      ]
    },
    {
      "cell_type": "code",
      "metadata": {
        "id": "ySi9RPtFYEhe"
      },
      "source": [
        "sns.histplot(data=mb_df['Stool'])"
      ],
      "execution_count": null,
      "outputs": []
    },
    {
      "cell_type": "code",
      "metadata": {
        "id": "850Jh_7sY5cm"
      },
      "source": [
        "sns.histplot(data=mb_df['Stool'], bins= 50, cumulative= True)"
      ],
      "execution_count": null,
      "outputs": []
    }
  ]
}