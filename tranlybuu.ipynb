{
  "nbformat": 4,
  "nbformat_minor": 0,
  "metadata": {
    "colab": {
      "name": "tranlybuu.ipynb",
      "provenance": [],
      "collapsed_sections": [],
      "include_colab_link": true
    },
    "kernelspec": {
      "name": "python3",
      "display_name": "Python 3"
    }
  },
  "cells": [
    {
      "cell_type": "markdown",
      "metadata": {
        "id": "view-in-github",
        "colab_type": "text"
      },
      "source": [
        "<a href=\"https://colab.research.google.com/github/tranlybuu/bai1/blob/main/tranlybuu.ipynb\" target=\"_parent\"><img src=\"https://colab.research.google.com/assets/colab-badge.svg\" alt=\"Open In Colab\"/></a>"
      ]
    },
    {
      "cell_type": "markdown",
      "metadata": {
        "id": "sMJ5KoiBMARd"
      },
      "source": [
        "**BÀI TẬP LẬP TRÌNH CHƯƠNG 2**\n",
        "\n",
        "Bài 1: Lập trình nhập vào từ bàn phím 2 số nguyên và tính:\n",
        "\n",
        "\n",
        "1.   Tổng của 2 số\n",
        "2.   Tích của 2 số\n",
        "3.   Hiệu của 2 số\n",
        "4.   Phép chia lấy phần dư của 2 số\n",
        "5.   Phép chia lấy phần nguyên của 2 số\n",
        "\n",
        "Kết quả xuất ra màn hình\n",
        "\n"
      ]
    },
    {
      "cell_type": "code",
      "metadata": {
        "id": "Os5z0wPpL1Nk",
        "outputId": "cb1c723b-f5c9-44c5-ac40-b8ab1a01f01f",
        "colab": {
          "base_uri": "https://localhost:8080/",
          "height": 134
        }
      },
      "source": [
        "a=int(input(\"nhập a:\"))\n",
        "b=int(input(\"nhập b:\"))\n",
        "print(\"a+b = {} \\na-b = {} \\na*b = {} \\na%b = {} \\na//b = {}\".format(a+b,a-b,a*b,a%b,a//b))"
      ],
      "execution_count": 2,
      "outputs": [
        {
          "output_type": "stream",
          "text": [
            "nhập a:9\n",
            "nhập b:3\n",
            "a+b = 12 \n",
            "a-b = 6 \n",
            "a*b = 27 \n",
            "a%b = 0 \n",
            "a//b = 3\n"
          ],
          "name": "stdout"
        }
      ]
    },
    {
      "cell_type": "markdown",
      "metadata": {
        "id": "j2suJwVPM5Zk"
      },
      "source": [
        "Bài 2: Lập trình nhập vào từ bàn phím 2 số thực và tính:\n",
        "\n",
        "1.   Tổng của 2 số\n",
        "2.   Tích của 2 số\n",
        "3.   Hiệu của 2 số\n",
        "4.   Thương của 2 số\n",
        "\n",
        "Kết quả xuất ra màn hình"
      ]
    },
    {
      "cell_type": "code",
      "metadata": {
        "id": "fmlD-ggRMh9q",
        "outputId": "83ea77e7-b65e-483c-856e-f76920dde379",
        "colab": {
          "base_uri": "https://localhost:8080/",
          "height": 118
        }
      },
      "source": [
        "a=float(input(\"nhập a:\"))\n",
        "b=float(input(\"nhập b:\"))\n",
        "print(\"a+b = {} \\na-b = {} \\na*b = {} \\na/b = {}\".format(a+b,a-b,a*b,a/b))"
      ],
      "execution_count": 6,
      "outputs": [
        {
          "output_type": "stream",
          "text": [
            "nhập a:5.5\n",
            "nhập b:4.4\n",
            "a+b = 9.9 \n",
            "a-b = 1.0999999999999996 \n",
            "a*b = 24.200000000000003 \n",
            "a/b = 1.25\n"
          ],
          "name": "stdout"
        }
      ]
    },
    {
      "cell_type": "markdown",
      "metadata": {
        "id": "sOCly6AvNUAN"
      },
      "source": [
        "Bài 3: (Sử dụng các hàm toán học) Nhập một số từ bàn phím và tính:\n",
        "\n",
        "\n",
        "\n",
        "1.   Trị tuyệt đối\n",
        "2.   Lấy phần nguyên của số\n",
        "3.   Chuyển đổi thành số thực\n",
        "4.   (nhập thêm 1 số từ bàn phím) và tính lũy thừa $ x^y $\n",
        "5.   Tính căn bậc hai\n",
        "\n",
        "Kết quả xuất ra màn hình\n",
        "\n"
      ]
    },
    {
      "cell_type": "code",
      "metadata": {
        "id": "XNKN4yAoOUAa",
        "outputId": "c318f273-dd0f-488a-de63-cbc2c728d5e2",
        "colab": {
          "base_uri": "https://localhost:8080/",
          "height": 118
        }
      },
      "source": [
        "n=float(input(\"Nhập 1 số: \"))\n",
        "print(\"Trị tuyệt đối n =\",abs(n))\n",
        "print(\"Phần nguyên =\",n//1)\n",
        "n=(float(n))\n",
        "k=int(input(\"nhập 1 số nguyên: \"))\n",
        "print(\"lũy thừa = \",k**n)\n",
        "print(\"căn bậc 2 = \",k**0.5)"
      ],
      "execution_count": 8,
      "outputs": [
        {
          "output_type": "stream",
          "text": [
            "Nhập 1 số: 5.9\n",
            "Trị tuyệt đối n = 5.9\n",
            "Phần nguyên = 5.0\n",
            "nhập 1 số nguyên: 3\n",
            "lũy thừa =  653.1537172239159\n",
            "căn bậc 2 =  1.7320508075688772\n"
          ],
          "name": "stdout"
        }
      ]
    },
    {
      "cell_type": "markdown",
      "metadata": {
        "id": "79zQGrU5Od-d"
      },
      "source": [
        "Bài 4: Nhập 2 số từ bàn phím và thực hiện các phép so sánh sau giữa 2 số:\n",
        "\n",
        "\n",
        "\n",
        "1.   $ \\geq $\n",
        "2.   $ \\leq $\n",
        "3.   $ > $\n",
        "4.   $ < $\n",
        "5.   $ \\neq $\n",
        "\n",
        "Kết quả xuất ra màn hình\n"
      ]
    },
    {
      "cell_type": "code",
      "metadata": {
        "id": "qePknJEaP1tL",
        "outputId": "8381dd1e-f775-42cb-b755-2502881039cf",
        "colab": {
          "base_uri": "https://localhost:8080/",
          "height": 134
        }
      },
      "source": [
        "a=float(input(\"nhập a:\"))\n",
        "b=float(input(\"nhập b:\"))\n",
        "print(a>=b)\n",
        "print(a<=b)\n",
        "print(a>b)\n",
        "print(a<b)\n",
        "print(a!=b)"
      ],
      "execution_count": 9,
      "outputs": [
        {
          "output_type": "stream",
          "text": [
            "nhập a:4\n",
            "nhập b:5\n",
            "False\n",
            "True\n",
            "False\n",
            "True\n",
            "True\n"
          ],
          "name": "stdout"
        }
      ]
    },
    {
      "cell_type": "markdown",
      "metadata": {
        "id": "90lU8sTXP4hu"
      },
      "source": [
        "Bài 5: Nhập 1 chuỗi ký tự từ bàn phím:\n",
        "\n",
        "\n",
        "\n",
        "1.   Chuyển thành chuỗi in hoa\n",
        "2.   Chuyển thành chuỗi in thường\n",
        "\n",
        "Kết quả xuất ra màn hình\n",
        "\n",
        "\n",
        "\n"
      ]
    },
    {
      "cell_type": "code",
      "metadata": {
        "id": "PWIIssukQXja",
        "outputId": "774af32e-5c74-4710-b8e7-c4f4a6fef1ca",
        "colab": {
          "base_uri": "https://localhost:8080/",
          "height": 67
        }
      },
      "source": [
        "text=str(input())\n",
        "print(text.upper())\n",
        "print(text.lower())"
      ],
      "execution_count": 10,
      "outputs": [
        {
          "output_type": "stream",
          "text": [
            "HGhjGJHGHJgHJGhjGhj\n",
            "HGHJGJHGHJGHJGHJGHJ\n",
            "hghjgjhghjghjghjghj\n"
          ],
          "name": "stdout"
        }
      ]
    },
    {
      "cell_type": "markdown",
      "metadata": {
        "id": "gv9n9-gMQZ7O"
      },
      "source": [
        "Bài 6: Xuất ra màn hình 1 chuỗi ký từ nằm trên nhiều hàng (có thể là 1 bài thơ tùy ý bạn lựa chọn)"
      ]
    },
    {
      "cell_type": "code",
      "metadata": {
        "id": "ZcjBCkQOQoS0",
        "outputId": "5153af32-763d-40bb-dc11-2ef71071da28",
        "colab": {
          "base_uri": "https://localhost:8080/",
          "height": 84
        }
      },
      "source": [
        "print(\"Trần\\nLý\\nBửu\\nK1\")"
      ],
      "execution_count": 13,
      "outputs": [
        {
          "output_type": "stream",
          "text": [
            "Trần\n",
            "Lý\n",
            "Bửu\n",
            "K1\n"
          ],
          "name": "stdout"
        }
      ]
    }
  ]
}