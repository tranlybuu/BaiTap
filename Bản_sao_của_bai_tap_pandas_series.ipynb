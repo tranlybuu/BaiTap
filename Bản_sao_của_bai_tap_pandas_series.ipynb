{
  "nbformat": 4,
  "nbformat_minor": 0,
  "metadata": {
    "kernelspec": {
      "display_name": "Python 3",
      "language": "python",
      "name": "python3"
    },
    "language_info": {
      "codemirror_mode": {
        "name": "ipython",
        "version": 3
      },
      "file_extension": ".py",
      "mimetype": "text/x-python",
      "name": "python",
      "nbconvert_exporter": "python",
      "pygments_lexer": "ipython3",
      "version": "3.7.3"
    },
    "colab": {
      "name": "Bản sao của bai-tap-pandas-series.ipynb",
      "provenance": [],
      "collapsed_sections": [],
      "include_colab_link": true
    }
  },
  "cells": [
    {
      "cell_type": "markdown",
      "metadata": {
        "id": "view-in-github",
        "colab_type": "text"
      },
      "source": [
        "<a href=\"https://colab.research.google.com/github/tranlybuu/bai1/blob/main/B%E1%BA%A3n_sao_c%E1%BB%A7a_bai_tap_pandas_series.ipynb\" target=\"_parent\"><img src=\"https://colab.research.google.com/assets/colab-badge.svg\" alt=\"Open In Colab\"/></a>"
      ]
    },
    {
      "cell_type": "markdown",
      "metadata": {
        "id": "U72sqts5aRlZ"
      },
      "source": [
        "Câu 1: Hãy tạo 1 đối tượng kiểu Series có tối thiểu 10 phần tử (kiểu số) với giá trị tùy ý thích của bạn. \n",
        "       In giá trị của Series đó ra màn hình"
      ]
    },
    {
      "cell_type": "code",
      "metadata": {
        "id": "-31RwpbmaRlh",
        "colab": {
          "base_uri": "https://localhost:8080/"
        },
        "outputId": "f44ae905-b983-460e-8003-7ca879c30823"
      },
      "source": [
        "import pandas as pd\r\n",
        "import numpy as np\r\n",
        "test = pd.Series([1, 4, 7, 9, 10, 12, 15, 16, 17, 18])\r\n",
        "test"
      ],
      "execution_count": 2,
      "outputs": [
        {
          "output_type": "execute_result",
          "data": {
            "text/plain": [
              "0     1\n",
              "1     4\n",
              "2     7\n",
              "3     9\n",
              "4    10\n",
              "5    12\n",
              "6    15\n",
              "7    16\n",
              "8    17\n",
              "9    18\n",
              "dtype: int64"
            ]
          },
          "metadata": {
            "tags": []
          },
          "execution_count": 2
        }
      ]
    },
    {
      "cell_type": "markdown",
      "metadata": {
        "id": "TV9j4Q7RaRli"
      },
      "source": [
        "Câu 2: Hãy tạo 1 đối tượng kiểu Series với giá trị khởi tạo hình thành từ dữ liệu kiểu Dictionary. In kết quả ra màn hình"
      ]
    },
    {
      "cell_type": "code",
      "metadata": {
        "id": "dRsz2r9AaRli",
        "colab": {
          "base_uri": "https://localhost:8080/"
        },
        "outputId": "0f8a1e58-face-4b3a-e44c-c8594923d8a3"
      },
      "source": [
        "ex2 = pd.Series({'Buu' : 1,'Phong' : 3,'Tan' : 5,'Manh' : 7,'Thang' : 9})\r\n",
        "ex2"
      ],
      "execution_count": 3,
      "outputs": [
        {
          "output_type": "execute_result",
          "data": {
            "text/plain": [
              "Buu      1\n",
              "Phong    3\n",
              "Tan      5\n",
              "Manh     7\n",
              "Thang    9\n",
              "dtype: int64"
            ]
          },
          "metadata": {
            "tags": []
          },
          "execution_count": 3
        }
      ]
    },
    {
      "cell_type": "markdown",
      "metadata": {
        "id": "e_lLbifLaRli"
      },
      "source": [
        "Câu 3: Sử dụng series ở câu 1, hãy thay đổi giá trị của cột index từ kiểu số theo kiểu ký tự với giá trị do bạn tự xác định."
      ]
    },
    {
      "cell_type": "code",
      "metadata": {
        "id": "jbsk7BdkaRlj",
        "colab": {
          "base_uri": "https://localhost:8080/"
        },
        "outputId": "e34aa010-c60d-480c-8f21-b82a2dc7cbe9"
      },
      "source": [
        "test = pd.Series([1, 4, 7, 9, 10, 12, 15, 16, 17, 18], index=['Ax', 'B', 'Cx', 'Dx', 'E', 'F', 'Gx', 'H', 'Kx', 'L'])\r\n",
        "test"
      ],
      "execution_count": 6,
      "outputs": [
        {
          "output_type": "execute_result",
          "data": {
            "text/plain": [
              "Ax     1\n",
              "B      4\n",
              "Cx     7\n",
              "Dx     9\n",
              "E     10\n",
              "F     12\n",
              "Gx    15\n",
              "H     16\n",
              "Kx    17\n",
              "L     18\n",
              "dtype: int64"
            ]
          },
          "metadata": {
            "tags": []
          },
          "execution_count": 6
        }
      ]
    },
    {
      "cell_type": "markdown",
      "metadata": {
        "id": "GgykjMmdaRll"
      },
      "source": [
        "Câu 4: Sử dụng series ở câu 2, hãy truy cập đến phần tử thứ 5 và in ra màn hình"
      ]
    },
    {
      "cell_type": "code",
      "metadata": {
        "id": "pwWcWSeLaRll",
        "colab": {
          "base_uri": "https://localhost:8080/"
        },
        "outputId": "537eea74-bcfe-4291-99c6-dcca3cca36e9"
      },
      "source": [
        "print(ex2[4])"
      ],
      "execution_count": 5,
      "outputs": [
        {
          "output_type": "stream",
          "text": [
            "9\n"
          ],
          "name": "stdout"
        }
      ]
    },
    {
      "cell_type": "markdown",
      "metadata": {
        "id": "RsW9GqiWaRll"
      },
      "source": [
        "Câu 5: Sử dụng series ở câu 3, hãy truy cập đến 1 phần tử dựa theo chỉ số kiểu ký tự do bạn lựa chọn và in ra màn hình"
      ]
    },
    {
      "cell_type": "code",
      "metadata": {
        "id": "A1KJgnfbaRlm",
        "colab": {
          "base_uri": "https://localhost:8080/"
        },
        "outputId": "025547e0-e8ae-4407-f68e-23a05dfd7873"
      },
      "source": [
        "print(test['Cx'])"
      ],
      "execution_count": 12,
      "outputs": [
        {
          "output_type": "stream",
          "text": [
            "7\n"
          ],
          "name": "stdout"
        }
      ]
    },
    {
      "cell_type": "markdown",
      "metadata": {
        "id": "WwORJo3-aRlm"
      },
      "source": [
        "Câu 6: Sử dụng series ở câu 3, hãy tìm ra tính chất đặc thù trong các chỉ số kiểu kí tự, thực hiện vòng lặp for duyệt trên các chỉ mục kiểu kí tự này để lọc ra những phần tử thỏa mãn điều kiện và in ra màn hình"
      ]
    },
    {
      "cell_type": "code",
      "metadata": {
        "id": "1w6ZhRhfaRlm",
        "colab": {
          "base_uri": "https://localhost:8080/"
        },
        "outputId": "810008fb-72fc-46a9-f737-2809d4043988"
      },
      "source": [
        "test[[name.endswith('x') for name in test.index]]"
      ],
      "execution_count": 10,
      "outputs": [
        {
          "output_type": "execute_result",
          "data": {
            "text/plain": [
              "Ax     1\n",
              "Cx     7\n",
              "Dx     9\n",
              "Gx    15\n",
              "Kx    17\n",
              "dtype: int64"
            ]
          },
          "metadata": {
            "tags": []
          },
          "execution_count": 10
        }
      ]
    },
    {
      "cell_type": "markdown",
      "metadata": {
        "id": "EP01QpdzaRlm"
      },
      "source": [
        "Câu 7: Sử dụng series ở câu 1, hãy đổi tên cột index thành 'STT' và đặt tên cho series là 'Gia_tri'. In kết quả ra màn hình "
      ]
    },
    {
      "cell_type": "code",
      "metadata": {
        "id": "vCAUy8ohaRln",
        "colab": {
          "base_uri": "https://localhost:8080/"
        },
        "outputId": "19a0da6c-4aa7-4ab1-f555-ffed71aa3957"
      },
      "source": [
        "test.name = 'Gia_tri'\r\n",
        "test.index.name = 'STT'\r\n",
        "test"
      ],
      "execution_count": 13,
      "outputs": [
        {
          "output_type": "execute_result",
          "data": {
            "text/plain": [
              "STT\n",
              "Ax     1\n",
              "B      4\n",
              "Cx     7\n",
              "Dx     9\n",
              "E     10\n",
              "F     12\n",
              "Gx    15\n",
              "H     16\n",
              "Kx    17\n",
              "L     18\n",
              "Name: Gia_tri, dtype: int64"
            ]
          },
          "metadata": {
            "tags": []
          },
          "execution_count": 13
        }
      ]
    },
    {
      "cell_type": "markdown",
      "metadata": {
        "id": "nGXx8TufaRln"
      },
      "source": [
        "Câu 8: Hãy áp dụng hàm logarith của gói numpy với series ở câu 1 và in kết quả ra màn hình"
      ]
    },
    {
      "cell_type": "code",
      "metadata": {
        "id": "dNbdec9WaRln",
        "colab": {
          "base_uri": "https://localhost:8080/"
        },
        "outputId": "3e27e39b-473d-4f29-b7d3-85e3c3211f5f"
      },
      "source": [
        "np.log(test)"
      ],
      "execution_count": 14,
      "outputs": [
        {
          "output_type": "execute_result",
          "data": {
            "text/plain": [
              "STT\n",
              "Ax    0.000000\n",
              "B     1.386294\n",
              "Cx    1.945910\n",
              "Dx    2.197225\n",
              "E     2.302585\n",
              "F     2.484907\n",
              "Gx    2.708050\n",
              "H     2.772589\n",
              "Kx    2.833213\n",
              "L     2.890372\n",
              "Name: Gia_tri, dtype: float64"
            ]
          },
          "metadata": {
            "tags": []
          },
          "execution_count": 14
        }
      ]
    },
    {
      "cell_type": "markdown",
      "metadata": {
        "id": "ogo5NN8NaRln"
      },
      "source": [
        "Câu 9: Lọc các giá trị của series 1 > 15 và in ra màn hình"
      ]
    },
    {
      "cell_type": "code",
      "metadata": {
        "id": "3JRdEBZlaRlo",
        "colab": {
          "base_uri": "https://localhost:8080/"
        },
        "outputId": "1696a988-6526-424b-e448-024550c70030"
      },
      "source": [
        "test[test>15]"
      ],
      "execution_count": 15,
      "outputs": [
        {
          "output_type": "execute_result",
          "data": {
            "text/plain": [
              "STT\n",
              "H     16\n",
              "Kx    17\n",
              "L     18\n",
              "Name: Gia_tri, dtype: int64"
            ]
          },
          "metadata": {
            "tags": []
          },
          "execution_count": 15
        }
      ]
    }
  ]
}